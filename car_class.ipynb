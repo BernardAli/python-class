{
 "cells": [
  {
   "cell_type": "code",
   "execution_count": 1,
   "id": "5c91a470",
   "metadata": {},
   "outputs": [],
   "source": [
    "class Car:\n",
    "    def __init__ (self, make, model, year, max_speed, mileage=0):\n",
    "        self.make = make\n",
    "        self.model = model\n",
    "        self.year = year\n",
    "        self.max_speed = max_speed\n",
    "        self.mileage = mileage\n",
    "        \n",
    "    def acceleration(self, speed):\n",
    "        if speed > self.max_speed:\n",
    "            print(f\"You have exceeded the speed limit. \\nSlow down!\")\n",
    "        else:\n",
    "            print(\"You're within the speed limit. \\nGood job!\")\n",
    "    \n",
    "    def update_mileage(self, distance):\n",
    "        self.mileage += distance"
   ]
  },
  {
   "cell_type": "code",
   "execution_count": 2,
   "id": "a1bbe2d1",
   "metadata": {},
   "outputs": [
    {
     "data": {
      "text/plain": [
       "10"
      ]
     },
     "execution_count": 2,
     "metadata": {},
     "output_type": "execute_result"
    }
   ],
   "source": [
    "car1 = Car(\"Lexus\", \"LS500h\", 2023, 199, 10)\n",
    "car1.mileage"
   ]
  },
  {
   "cell_type": "code",
   "execution_count": 4,
   "id": "fb181e1c",
   "metadata": {},
   "outputs": [
    {
     "name": "stdout",
     "output_type": "stream",
     "text": [
      "You have exceeded the speed limit. \n",
      "Slow down!\n"
     ]
    }
   ],
   "source": [
    "car1.acceleration(210)"
   ]
  },
  {
   "cell_type": "code",
   "execution_count": 5,
   "id": "07ca1bac",
   "metadata": {},
   "outputs": [],
   "source": [
    "# class inheritance\n",
    "# parent, superclass\n",
    "# children, subclass\n"
   ]
  },
  {
   "cell_type": "code",
   "execution_count": 24,
   "id": "da03f371",
   "metadata": {},
   "outputs": [],
   "source": [
    "# Inheritance\n",
    "# Multiple\n",
    "\n",
    "class ElectricCar(Car):\n",
    "    def __init__ (self, make, model, year, max_speed, mileage, battery_size, charging_speed):\n",
    "        self.battery_size = battery_size\n",
    "        self.charging_speed = charging_speed\n",
    "        Car.__init__(self, make, model, year, max_speed, mileage)\n",
    "        \n",
    "    def describe_battery(self):\n",
    "        print(f\"Your {self.model} has {self.battery_size}-kWh battery\")\n",
    "        \n",
    "    def acceleration(self, speed):\n",
    "        print(f\"You're going {speed}km/h\")\n",
    "        \n",
    "    def battery_distance(self):\n",
    "        print(f\"You can travel for {self.battery_size * 2.1} on a full charge\")"
   ]
  },
  {
   "cell_type": "code",
   "execution_count": 25,
   "id": "ede7e26f",
   "metadata": {},
   "outputs": [],
   "source": [
    "e_car1 = ElectricCar(\"Tesla\", \"Model S Plaid\", 2022, 167, 1000, 90)"
   ]
  },
  {
   "cell_type": "code",
   "execution_count": 26,
   "id": "ec4a1261",
   "metadata": {},
   "outputs": [],
   "source": [
    "e_car1.update_mileage(3000)"
   ]
  },
  {
   "cell_type": "code",
   "execution_count": 27,
   "id": "462a76a0",
   "metadata": {},
   "outputs": [
    {
     "data": {
      "text/plain": [
       "4000"
      ]
     },
     "execution_count": 27,
     "metadata": {},
     "output_type": "execute_result"
    }
   ],
   "source": [
    "e_car1.mileage"
   ]
  },
  {
   "cell_type": "code",
   "execution_count": 28,
   "id": "501a6abf",
   "metadata": {},
   "outputs": [
    {
     "name": "stdout",
     "output_type": "stream",
     "text": [
      "You're going 160km/h\n"
     ]
    }
   ],
   "source": [
    "e_car1.acceleration(160)"
   ]
  },
  {
   "cell_type": "code",
   "execution_count": 29,
   "id": "31aecd91",
   "metadata": {},
   "outputs": [
    {
     "name": "stdout",
     "output_type": "stream",
     "text": [
      "You can travel for 189.0 on a full charge\n"
     ]
    }
   ],
   "source": [
    "e_car1.battery_distance()"
   ]
  },
  {
   "cell_type": "code",
   "execution_count": 30,
   "id": "e5a6eef9",
   "metadata": {},
   "outputs": [
    {
     "name": "stdout",
     "output_type": "stream",
     "text": [
      "You can travel for 241.5 on a full charge\n"
     ]
    }
   ],
   "source": [
    "e_car2 = ElectricCar(\"Benz\", \"S Class\", 2022, 180, 1000, 115)\n",
    "e_car2.battery_distance()"
   ]
  },
  {
   "cell_type": "code",
   "execution_count": null,
   "id": "ac57b013",
   "metadata": {},
   "outputs": [],
   "source": []
  }
 ],
 "metadata": {
  "kernelspec": {
   "display_name": "Python 3 (ipykernel)",
   "language": "python",
   "name": "python3"
  },
  "language_info": {
   "codemirror_mode": {
    "name": "ipython",
    "version": 3
   },
   "file_extension": ".py",
   "mimetype": "text/x-python",
   "name": "python",
   "nbconvert_exporter": "python",
   "pygments_lexer": "ipython3",
   "version": "3.11.4"
  }
 },
 "nbformat": 4,
 "nbformat_minor": 5
}
