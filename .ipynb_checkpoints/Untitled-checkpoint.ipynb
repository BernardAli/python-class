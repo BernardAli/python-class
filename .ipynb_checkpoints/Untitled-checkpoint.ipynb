{
 "cells": [
  {
   "cell_type": "code",
   "execution_count": 1,
   "id": "28b3becc",
   "metadata": {},
   "outputs": [
    {
     "data": {
      "text/plain": [
       "4"
      ]
     },
     "execution_count": 1,
     "metadata": {},
     "output_type": "execute_result"
    }
   ],
   "source": [
    "x = 2\n",
    "2 * x"
   ]
  },
  {
   "cell_type": "code",
   "execution_count": 2,
   "id": "ef47ed8b",
   "metadata": {},
   "outputs": [
    {
     "data": {
      "text/plain": [
       "2"
      ]
     },
     "execution_count": 2,
     "metadata": {},
     "output_type": "execute_result"
    }
   ],
   "source": [
    "x"
   ]
  },
  {
   "cell_type": "code",
   "execution_count": 3,
   "id": "e3ab24fa",
   "metadata": {},
   "outputs": [
    {
     "data": {
      "text/plain": [
       "'Ben'"
      ]
     },
     "execution_count": 3,
     "metadata": {},
     "output_type": "execute_result"
    }
   ],
   "source": [
    "my_name = \"Ben\"\n",
    "my_name"
   ]
  },
  {
   "cell_type": "code",
   "execution_count": 4,
   "id": "1e734efc",
   "metadata": {},
   "outputs": [],
   "source": [
    "other_name = \"Kwame\""
   ]
  },
  {
   "cell_type": "code",
   "execution_count": 5,
   "id": "e1366b77",
   "metadata": {},
   "outputs": [
    {
     "name": "stdout",
     "output_type": "stream",
     "text": [
      "Kwame\n"
     ]
    }
   ],
   "source": [
    "print(other_name)"
   ]
  },
  {
   "cell_type": "code",
   "execution_count": 6,
   "id": "d072f667",
   "metadata": {},
   "outputs": [
    {
     "data": {
      "text/plain": [
       "'Kwame'"
      ]
     },
     "execution_count": 6,
     "metadata": {},
     "output_type": "execute_result"
    }
   ],
   "source": [
    "other_name"
   ]
  },
  {
   "cell_type": "code",
   "execution_count": 8,
   "id": "3a9420a1",
   "metadata": {},
   "outputs": [
    {
     "data": {
      "text/plain": [
       "'Ben'"
      ]
     },
     "execution_count": 8,
     "metadata": {},
     "output_type": "execute_result"
    }
   ],
   "source": [
    "my_name"
   ]
  },
  {
   "cell_type": "code",
   "execution_count": 9,
   "id": "11525594",
   "metadata": {},
   "outputs": [],
   "source": [
    "first_name = \"Doris\"\n",
    "last_name = 'Osei'"
   ]
  },
  {
   "cell_type": "code",
   "execution_count": 10,
   "id": "c02c1db1",
   "metadata": {},
   "outputs": [
    {
     "data": {
      "text/plain": [
       "'My school\"s color is red'"
      ]
     },
     "execution_count": 10,
     "metadata": {},
     "output_type": "execute_result"
    }
   ],
   "source": [
    "message = 'My school\"s color is red'\n",
    "message"
   ]
  },
  {
   "cell_type": "code",
   "execution_count": 11,
   "id": "6696a1da",
   "metadata": {},
   "outputs": [
    {
     "data": {
      "text/plain": [
       "2"
      ]
     },
     "execution_count": 11,
     "metadata": {},
     "output_type": "execute_result"
    }
   ],
   "source": [
    "x"
   ]
  },
  {
   "cell_type": "code",
   "execution_count": 12,
   "id": "d33e8e98",
   "metadata": {},
   "outputs": [
    {
     "data": {
      "text/plain": [
       "int"
      ]
     },
     "execution_count": 12,
     "metadata": {},
     "output_type": "execute_result"
    }
   ],
   "source": [
    "type(x)"
   ]
  },
  {
   "cell_type": "code",
   "execution_count": 13,
   "id": "ae9abd2c",
   "metadata": {},
   "outputs": [
    {
     "data": {
      "text/plain": [
       "str"
      ]
     },
     "execution_count": 13,
     "metadata": {},
     "output_type": "execute_result"
    }
   ],
   "source": [
    "type(message)"
   ]
  },
  {
   "cell_type": "code",
   "execution_count": 14,
   "id": "d1b19387",
   "metadata": {},
   "outputs": [
    {
     "data": {
      "text/plain": [
       "'DORIS'"
      ]
     },
     "execution_count": 14,
     "metadata": {},
     "output_type": "execute_result"
    }
   ],
   "source": [
    "first_name.upper()"
   ]
  },
  {
   "cell_type": "code",
   "execution_count": 15,
   "id": "84c5382f",
   "metadata": {},
   "outputs": [
    {
     "data": {
      "text/plain": [
       "'doris'"
      ]
     },
     "execution_count": 15,
     "metadata": {},
     "output_type": "execute_result"
    }
   ],
   "source": [
    "first_name.lower()"
   ]
  },
  {
   "cell_type": "code",
   "execution_count": 16,
   "id": "52409f54",
   "metadata": {},
   "outputs": [
    {
     "data": {
      "text/plain": [
       "'My School\"S Color Is Red'"
      ]
     },
     "execution_count": 16,
     "metadata": {},
     "output_type": "execute_result"
    }
   ],
   "source": [
    "message.title()"
   ]
  },
  {
   "cell_type": "code",
   "execution_count": 17,
   "id": "4ac1843e",
   "metadata": {},
   "outputs": [
    {
     "data": {
      "text/plain": [
       "'mY SCHOOL\"S COLOR IS RED'"
      ]
     },
     "execution_count": 17,
     "metadata": {},
     "output_type": "execute_result"
    }
   ],
   "source": [
    "message.swapcase()"
   ]
  },
  {
   "cell_type": "code",
   "execution_count": 18,
   "id": "f0ecd8f6",
   "metadata": {},
   "outputs": [
    {
     "data": {
      "text/plain": [
       "4"
      ]
     },
     "execution_count": 18,
     "metadata": {},
     "output_type": "execute_result"
    }
   ],
   "source": [
    "message.count('o')"
   ]
  },
  {
   "cell_type": "code",
   "execution_count": 19,
   "id": "7418de86",
   "metadata": {},
   "outputs": [
    {
     "data": {
      "text/plain": [
       "True"
      ]
     },
     "execution_count": 19,
     "metadata": {},
     "output_type": "execute_result"
    }
   ],
   "source": [
    "message.endswith('d')"
   ]
  },
  {
   "cell_type": "code",
   "execution_count": 20,
   "id": "068bed1d",
   "metadata": {},
   "outputs": [
    {
     "data": {
      "text/plain": [
       "False"
      ]
     },
     "execution_count": 20,
     "metadata": {},
     "output_type": "execute_result"
    }
   ],
   "source": [
    "message.endswith('e')"
   ]
  },
  {
   "cell_type": "code",
   "execution_count": 21,
   "id": "3156626e",
   "metadata": {},
   "outputs": [
    {
     "data": {
      "text/plain": [
       "24"
      ]
     },
     "execution_count": 21,
     "metadata": {},
     "output_type": "execute_result"
    }
   ],
   "source": [
    "len(message)"
   ]
  },
  {
   "cell_type": "code",
   "execution_count": 22,
   "id": "6c4cf865",
   "metadata": {},
   "outputs": [
    {
     "data": {
      "text/plain": [
       "5"
      ]
     },
     "execution_count": 22,
     "metadata": {},
     "output_type": "execute_result"
    }
   ],
   "source": [
    "len(first_name)"
   ]
  },
  {
   "cell_type": "code",
   "execution_count": 23,
   "id": "96565e33",
   "metadata": {},
   "outputs": [
    {
     "data": {
      "text/plain": [
       "'DorisOsei'"
      ]
     },
     "execution_count": 23,
     "metadata": {},
     "output_type": "execute_result"
    }
   ],
   "source": [
    "full_name = first_name + last_name\n",
    "full_name"
   ]
  },
  {
   "cell_type": "code",
   "execution_count": 24,
   "id": "2005277c",
   "metadata": {},
   "outputs": [
    {
     "data": {
      "text/plain": [
       "'Doris Osei'"
      ]
     },
     "execution_count": 24,
     "metadata": {},
     "output_type": "execute_result"
    }
   ],
   "source": [
    "full_name = first_name + \" \" +last_name\n",
    "full_name"
   ]
  },
  {
   "cell_type": "code",
   "execution_count": 26,
   "id": "b5d62f7f",
   "metadata": {},
   "outputs": [
    {
     "data": {
      "text/plain": [
       "'My first name is Doris and last name is Osei'"
      ]
     },
     "execution_count": 26,
     "metadata": {},
     "output_type": "execute_result"
    }
   ],
   "source": [
    "full_name = f\"My first name is {first_name} and last name is {last_name}\"\n",
    "full_name"
   ]
  },
  {
   "cell_type": "code",
   "execution_count": 27,
   "id": "4e86c038",
   "metadata": {},
   "outputs": [
    {
     "data": {
      "text/plain": [
       "'My first name is {first_name} and last name is {last_name}'"
      ]
     },
     "execution_count": 27,
     "metadata": {},
     "output_type": "execute_result"
    }
   ],
   "source": [
    "full_name = \"My first name is {first_name} and last name is {last_name}\"\n",
    "full_name"
   ]
  },
  {
   "cell_type": "code",
   "execution_count": 29,
   "id": "82388831",
   "metadata": {},
   "outputs": [
    {
     "data": {
      "text/plain": [
       "'My first name is Doris and last name is Osei'"
      ]
     },
     "execution_count": 29,
     "metadata": {},
     "output_type": "execute_result"
    }
   ],
   "source": [
    "full_name = f\"My first name is {first_name} and last name is {last_name}\"\n",
    "full_name"
   ]
  },
  {
   "cell_type": "code",
   "execution_count": 30,
   "id": "3481557a",
   "metadata": {},
   "outputs": [
    {
     "data": {
      "text/plain": [
       "82"
      ]
     },
     "execution_count": 30,
     "metadata": {},
     "output_type": "execute_result"
    }
   ],
   "source": [
    "age = 82\n",
    "age"
   ]
  },
  {
   "cell_type": "code",
   "execution_count": 31,
   "id": "6a3db647",
   "metadata": {},
   "outputs": [
    {
     "data": {
      "text/plain": [
       "int"
      ]
     },
     "execution_count": 31,
     "metadata": {},
     "output_type": "execute_result"
    }
   ],
   "source": [
    "type(age)"
   ]
  },
  {
   "cell_type": "code",
   "execution_count": 32,
   "id": "2d4aa7a8",
   "metadata": {},
   "outputs": [
    {
     "data": {
      "text/plain": [
       "float"
      ]
     },
     "execution_count": 32,
     "metadata": {},
     "output_type": "execute_result"
    }
   ],
   "source": [
    "cgpa = 3.60\n",
    "type(cgpa)"
   ]
  },
  {
   "cell_type": "code",
   "execution_count": 38,
   "id": "da8194ab",
   "metadata": {},
   "outputs": [
    {
     "data": {
      "text/plain": [
       "0"
      ]
     },
     "execution_count": 38,
     "metadata": {},
     "output_type": "execute_result"
    }
   ],
   "source": [
    "# +, -, /, *, **, %\n",
    "21 % 7"
   ]
  },
  {
   "cell_type": "code",
   "execution_count": 39,
   "id": "4490b6fc",
   "metadata": {},
   "outputs": [
    {
     "data": {
      "text/plain": [
       "12676506002282294014967032053760000000000000000000000000000000000000000000000000000000000000000000000000000000000000000000000000000"
      ]
     },
     "execution_count": 39,
     "metadata": {},
     "output_type": "execute_result"
    }
   ],
   "source": [
    "20 ** 100"
   ]
  },
  {
   "cell_type": "code",
   "execution_count": 40,
   "id": "0db69cd3",
   "metadata": {},
   "outputs": [
    {
     "data": {
      "text/plain": [
       "8010000000"
      ]
     },
     "execution_count": 40,
     "metadata": {},
     "output_type": "execute_result"
    }
   ],
   "source": [
    "world_pop = 8_010_000_000\n",
    "world_pop"
   ]
  },
  {
   "cell_type": "code",
   "execution_count": 41,
   "id": "7f0bd714",
   "metadata": {},
   "outputs": [],
   "source": [
    "a = 10\n",
    "b = 20\n",
    "c = 30"
   ]
  },
  {
   "cell_type": "code",
   "execution_count": 43,
   "id": "2edfcf18",
   "metadata": {},
   "outputs": [],
   "source": [
    "x, y, z = 1, 2, 3"
   ]
  },
  {
   "cell_type": "code",
   "execution_count": 44,
   "id": "c55e8250",
   "metadata": {},
   "outputs": [
    {
     "data": {
      "text/plain": [
       "3"
      ]
     },
     "execution_count": 44,
     "metadata": {},
     "output_type": "execute_result"
    }
   ],
   "source": [
    "z"
   ]
  },
  {
   "cell_type": "code",
   "execution_count": 45,
   "id": "39d250b1",
   "metadata": {},
   "outputs": [
    {
     "data": {
      "text/plain": [
       "1"
      ]
     },
     "execution_count": 45,
     "metadata": {},
     "output_type": "execute_result"
    }
   ],
   "source": [
    "x"
   ]
  },
  {
   "cell_type": "code",
   "execution_count": 46,
   "id": "b1d42bf3",
   "metadata": {},
   "outputs": [
    {
     "data": {
      "text/plain": [
       "2"
      ]
     },
     "execution_count": 46,
     "metadata": {},
     "output_type": "execute_result"
    }
   ],
   "source": [
    "y"
   ]
  },
  {
   "cell_type": "code",
   "execution_count": 47,
   "id": "583546a8",
   "metadata": {},
   "outputs": [],
   "source": [
    "y = 5"
   ]
  },
  {
   "cell_type": "code",
   "execution_count": 48,
   "id": "4082446e",
   "metadata": {},
   "outputs": [
    {
     "data": {
      "text/plain": [
       "5"
      ]
     },
     "execution_count": 48,
     "metadata": {},
     "output_type": "execute_result"
    }
   ],
   "source": [
    "y"
   ]
  },
  {
   "cell_type": "code",
   "execution_count": 49,
   "id": "1ebda581",
   "metadata": {},
   "outputs": [],
   "source": [
    "PI = 3.14159"
   ]
  },
  {
   "cell_type": "code",
   "execution_count": 50,
   "id": "9d7d65e5",
   "metadata": {},
   "outputs": [
    {
     "data": {
      "text/plain": [
       "'Doris'"
      ]
     },
     "execution_count": 50,
     "metadata": {},
     "output_type": "execute_result"
    }
   ],
   "source": [
    "first_name"
   ]
  },
  {
   "cell_type": "code",
   "execution_count": 51,
   "id": "7aa6218a",
   "metadata": {},
   "outputs": [
    {
     "data": {
      "text/plain": [
       "'Abi'"
      ]
     },
     "execution_count": 51,
     "metadata": {},
     "output_type": "execute_result"
    }
   ],
   "source": [
    "first_name = \"Abi\"\n",
    "first_name"
   ]
  },
  {
   "cell_type": "code",
   "execution_count": 55,
   "id": "88757e80",
   "metadata": {},
   "outputs": [],
   "source": [
    "# strings\n",
    "# jsjdsa"
   ]
  },
  {
   "cell_type": "code",
   "execution_count": 56,
   "id": "53eaa829",
   "metadata": {},
   "outputs": [
    {
     "data": {
      "text/plain": [
       "'\\nThis is \\na multi line \\ncomments\\n'"
      ]
     },
     "execution_count": 56,
     "metadata": {},
     "output_type": "execute_result"
    }
   ],
   "source": [
    "\"\"\"\n",
    "This is \n",
    "a multi line \n",
    "comments\n",
    "\"\"\""
   ]
  },
  {
   "cell_type": "code",
   "execution_count": 57,
   "id": "3c1c5d7d",
   "metadata": {},
   "outputs": [
    {
     "name": "stdout",
     "output_type": "stream",
     "text": [
      "The Zen of Python, by Tim Peters\n",
      "\n",
      "Beautiful is better than ugly.\n",
      "Explicit is better than implicit.\n",
      "Simple is better than complex.\n",
      "Complex is better than complicated.\n",
      "Flat is better than nested.\n",
      "Sparse is better than dense.\n",
      "Readability counts.\n",
      "Special cases aren't special enough to break the rules.\n",
      "Although practicality beats purity.\n",
      "Errors should never pass silently.\n",
      "Unless explicitly silenced.\n",
      "In the face of ambiguity, refuse the temptation to guess.\n",
      "There should be one-- and preferably only one --obvious way to do it.\n",
      "Although that way may not be obvious at first unless you're Dutch.\n",
      "Now is better than never.\n",
      "Although never is often better than *right* now.\n",
      "If the implementation is hard to explain, it's a bad idea.\n",
      "If the implementation is easy to explain, it may be a good idea.\n",
      "Namespaces are one honking great idea -- let's do more of those!\n"
     ]
    }
   ],
   "source": [
    "import this"
   ]
  },
  {
   "cell_type": "code",
   "execution_count": 1,
   "id": "388dbe93",
   "metadata": {},
   "outputs": [
    {
     "data": {
      "text/plain": [
       "['bmw', 'audi', 'ford', 'volvo', 'hyundai', 'kia', 'honda']"
      ]
     },
     "execution_count": 1,
     "metadata": {},
     "output_type": "execute_result"
    }
   ],
   "source": [
    "# Lists\n",
    "cars = [\"bmw\", \"audi\", \"ford\", \"volvo\", \"hyundai\", \"kia\", \"honda\"]\n",
    "cars"
   ]
  },
  {
   "cell_type": "code",
   "execution_count": 2,
   "id": "af601c46",
   "metadata": {},
   "outputs": [
    {
     "data": {
      "text/plain": [
       "'bmw'"
      ]
     },
     "execution_count": 2,
     "metadata": {},
     "output_type": "execute_result"
    }
   ],
   "source": [
    "# list_name[position]\n",
    "cars[0]"
   ]
  },
  {
   "cell_type": "code",
   "execution_count": 3,
   "id": "24a5723e",
   "metadata": {},
   "outputs": [
    {
     "data": {
      "text/plain": [
       "'audi'"
      ]
     },
     "execution_count": 3,
     "metadata": {},
     "output_type": "execute_result"
    }
   ],
   "source": [
    "cars[1]"
   ]
  },
  {
   "cell_type": "code",
   "execution_count": 4,
   "id": "2b411b44",
   "metadata": {},
   "outputs": [
    {
     "data": {
      "text/plain": [
       "'ford'"
      ]
     },
     "execution_count": 4,
     "metadata": {},
     "output_type": "execute_result"
    }
   ],
   "source": [
    "cars[2]"
   ]
  },
  {
   "cell_type": "code",
   "execution_count": 5,
   "id": "b7a13e20",
   "metadata": {},
   "outputs": [
    {
     "data": {
      "text/plain": [
       "7"
      ]
     },
     "execution_count": 5,
     "metadata": {},
     "output_type": "execute_result"
    }
   ],
   "source": [
    "len(cars)"
   ]
  },
  {
   "cell_type": "code",
   "execution_count": 7,
   "id": "d73f7ef4",
   "metadata": {},
   "outputs": [
    {
     "data": {
      "text/plain": [
       "'honda'"
      ]
     },
     "execution_count": 7,
     "metadata": {},
     "output_type": "execute_result"
    }
   ],
   "source": [
    "cars[len(cars) - 1]"
   ]
  },
  {
   "cell_type": "code",
   "execution_count": 8,
   "id": "b945f1a5",
   "metadata": {},
   "outputs": [
    {
     "data": {
      "text/plain": [
       "6"
      ]
     },
     "execution_count": 8,
     "metadata": {},
     "output_type": "execute_result"
    }
   ],
   "source": [
    "len(cars) - 1"
   ]
  },
  {
   "cell_type": "code",
   "execution_count": 9,
   "id": "130709a0",
   "metadata": {},
   "outputs": [
    {
     "data": {
      "text/plain": [
       "'honda'"
      ]
     },
     "execution_count": 9,
     "metadata": {},
     "output_type": "execute_result"
    }
   ],
   "source": [
    "cars[-1]"
   ]
  },
  {
   "cell_type": "code",
   "execution_count": 10,
   "id": "e2fcf614",
   "metadata": {},
   "outputs": [
    {
     "data": {
      "text/plain": [
       "'kia'"
      ]
     },
     "execution_count": 10,
     "metadata": {},
     "output_type": "execute_result"
    }
   ],
   "source": [
    "cars[-2]"
   ]
  },
  {
   "cell_type": "code",
   "execution_count": 11,
   "id": "c7214ba9",
   "metadata": {},
   "outputs": [
    {
     "data": {
      "text/plain": [
       "['bmw', 'audi', 'ford', 'volvo', 'hyundai', 'kia', 'honda']"
      ]
     },
     "execution_count": 11,
     "metadata": {},
     "output_type": "execute_result"
    }
   ],
   "source": [
    "# modify\n",
    "cars"
   ]
  },
  {
   "cell_type": "code",
   "execution_count": 12,
   "id": "33d7e35f",
   "metadata": {},
   "outputs": [
    {
     "data": {
      "text/plain": [
       "['toyota', 'audi', 'ford', 'volvo', 'hyundai', 'kia', 'honda']"
      ]
     },
     "execution_count": 12,
     "metadata": {},
     "output_type": "execute_result"
    }
   ],
   "source": [
    "cars[0] = \"toyota\"\n",
    "cars"
   ]
  },
  {
   "cell_type": "code",
   "execution_count": 13,
   "id": "d0137bab",
   "metadata": {},
   "outputs": [
    {
     "data": {
      "text/plain": [
       "['toyota', 'audi', 'ford', 'volvo', 'hyundai', 'kia', 'opel']"
      ]
     },
     "execution_count": 13,
     "metadata": {},
     "output_type": "execute_result"
    }
   ],
   "source": [
    "cars[-1] = \"opel\"\n",
    "cars"
   ]
  },
  {
   "cell_type": "code",
   "execution_count": 14,
   "id": "3f06b55f",
   "metadata": {},
   "outputs": [
    {
     "data": {
      "text/plain": [
       "['toyota', 'audi', 'ford', 'volvo', 'hyundai', 'kia', 'opel', 'daewoo']"
      ]
     },
     "execution_count": 14,
     "metadata": {},
     "output_type": "execute_result"
    }
   ],
   "source": [
    "# adding\n",
    "# append(), insert()\n",
    "cars.append(\"daewoo\")\n",
    "cars"
   ]
  },
  {
   "cell_type": "code",
   "execution_count": 15,
   "id": "271bb203",
   "metadata": {},
   "outputs": [
    {
     "data": {
      "text/plain": [
       "['toyota',\n",
       " 'mitsuibishi',\n",
       " 'audi',\n",
       " 'ford',\n",
       " 'volvo',\n",
       " 'hyundai',\n",
       " 'kia',\n",
       " 'opel',\n",
       " 'daewoo']"
      ]
     },
     "execution_count": 15,
     "metadata": {},
     "output_type": "execute_result"
    }
   ],
   "source": [
    "cars.insert(1, \"mitsuibishi\")\n",
    "cars"
   ]
  },
  {
   "cell_type": "code",
   "execution_count": 16,
   "id": "3bd5ba3c",
   "metadata": {},
   "outputs": [
    {
     "data": {
      "text/plain": [
       "['toyota', 'mitsuibishi', 'audi', 'ford', 'volvo', 'hyundai', 'kia', 'opel']"
      ]
     },
     "execution_count": 16,
     "metadata": {},
     "output_type": "execute_result"
    }
   ],
   "source": [
    "# Removing from a list\n",
    "# pop(), remove(), del\n",
    "cars.pop()\n",
    "cars"
   ]
  },
  {
   "cell_type": "code",
   "execution_count": 18,
   "id": "0198f524",
   "metadata": {},
   "outputs": [],
   "source": [
    "cars.append(\"daewoo\")"
   ]
  },
  {
   "cell_type": "code",
   "execution_count": 19,
   "id": "2652ed59",
   "metadata": {},
   "outputs": [
    {
     "data": {
      "text/plain": [
       "['toyota',\n",
       " 'mitsuibishi',\n",
       " 'audi',\n",
       " 'ford',\n",
       " 'volvo',\n",
       " 'hyundai',\n",
       " 'kia',\n",
       " 'opel',\n",
       " 'daewoo',\n",
       " 'daewoo']"
      ]
     },
     "execution_count": 19,
     "metadata": {},
     "output_type": "execute_result"
    }
   ],
   "source": [
    "cars"
   ]
  },
  {
   "cell_type": "code",
   "execution_count": 20,
   "id": "4ce0c5b6",
   "metadata": {},
   "outputs": [
    {
     "data": {
      "text/plain": [
       "['toyota',\n",
       " 'mitsuibishi',\n",
       " 'audi',\n",
       " 'ford',\n",
       " 'volvo',\n",
       " 'hyundai',\n",
       " 'kia',\n",
       " 'opel',\n",
       " 'daewoo']"
      ]
     },
     "execution_count": 20,
     "metadata": {},
     "output_type": "execute_result"
    }
   ],
   "source": [
    "cars.pop()\n",
    "cars"
   ]
  },
  {
   "cell_type": "code",
   "execution_count": 21,
   "id": "6b7da62a",
   "metadata": {},
   "outputs": [
    {
     "data": {
      "text/plain": [
       "['toyota', 'mitsuibishi', 'audi', 'ford', 'volvo', 'hyundai', 'kia', 'opel']"
      ]
     },
     "execution_count": 21,
     "metadata": {},
     "output_type": "execute_result"
    }
   ],
   "source": [
    "cars.pop()\n",
    "cars"
   ]
  },
  {
   "cell_type": "code",
   "execution_count": 22,
   "id": "e93dc1b4",
   "metadata": {},
   "outputs": [
    {
     "data": {
      "text/plain": [
       "['mitsuibishi', 'audi', 'ford', 'volvo', 'hyundai', 'kia', 'opel']"
      ]
     },
     "execution_count": 22,
     "metadata": {},
     "output_type": "execute_result"
    }
   ],
   "source": [
    "cars.pop(0)\n",
    "cars"
   ]
  },
  {
   "cell_type": "code",
   "execution_count": 23,
   "id": "301fe6b0",
   "metadata": {},
   "outputs": [
    {
     "data": {
      "text/plain": [
       "['mitsuibishi', 'audi', 'ford', 'volvo', 'hyundai', 'opel']"
      ]
     },
     "execution_count": 23,
     "metadata": {},
     "output_type": "execute_result"
    }
   ],
   "source": [
    "cars.remove(\"kia\")\n",
    "cars"
   ]
  },
  {
   "cell_type": "code",
   "execution_count": 24,
   "id": "64432095",
   "metadata": {},
   "outputs": [
    {
     "data": {
      "text/plain": [
       "['mitsuibishi', 'ford', 'volvo', 'hyundai', 'opel']"
      ]
     },
     "execution_count": 24,
     "metadata": {},
     "output_type": "execute_result"
    }
   ],
   "source": [
    "del cars[1]\n",
    "cars"
   ]
  },
  {
   "cell_type": "code",
   "execution_count": 25,
   "id": "dd0de417",
   "metadata": {},
   "outputs": [
    {
     "data": {
      "text/plain": [
       "['ford', 'hyundai', 'mitsuibishi', 'opel', 'volvo']"
      ]
     },
     "execution_count": 25,
     "metadata": {},
     "output_type": "execute_result"
    }
   ],
   "source": [
    "# Organisation of lists\n",
    "# sort\n",
    "# temporal\n",
    "sorted(cars)"
   ]
  },
  {
   "cell_type": "code",
   "execution_count": 26,
   "id": "a838665b",
   "metadata": {},
   "outputs": [
    {
     "data": {
      "text/plain": [
       "['mitsuibishi', 'ford', 'volvo', 'hyundai', 'opel']"
      ]
     },
     "execution_count": 26,
     "metadata": {},
     "output_type": "execute_result"
    }
   ],
   "source": [
    "cars"
   ]
  },
  {
   "cell_type": "code",
   "execution_count": 27,
   "id": "503c1bef",
   "metadata": {},
   "outputs": [
    {
     "data": {
      "text/plain": [
       "['ford', 'hyundai', 'mitsuibishi', 'opel', 'volvo']"
      ]
     },
     "execution_count": 27,
     "metadata": {},
     "output_type": "execute_result"
    }
   ],
   "source": [
    "# permanently\n",
    "cars.sort()\n",
    "cars"
   ]
  },
  {
   "cell_type": "code",
   "execution_count": 28,
   "id": "5276d22e",
   "metadata": {},
   "outputs": [
    {
     "data": {
      "text/plain": [
       "['ford', 'hyundai', 'mitsuibishi', 'opel', 'volvo']"
      ]
     },
     "execution_count": 28,
     "metadata": {},
     "output_type": "execute_result"
    }
   ],
   "source": [
    "cars"
   ]
  },
  {
   "cell_type": "code",
   "execution_count": 29,
   "id": "33a3374f",
   "metadata": {},
   "outputs": [
    {
     "data": {
      "text/plain": [
       "['volvo', 'opel', 'mitsuibishi', 'hyundai', 'ford']"
      ]
     },
     "execution_count": 29,
     "metadata": {},
     "output_type": "execute_result"
    }
   ],
   "source": [
    "cars.sort(reverse=True)\n",
    "cars"
   ]
  },
  {
   "cell_type": "code",
   "execution_count": 41,
   "id": "7bf27921",
   "metadata": {},
   "outputs": [
    {
     "data": {
      "text/plain": [
       "['Accra', 'Abuja', 'Cairo', 'Paris', 'London', 'Berlin']"
      ]
     },
     "execution_count": 41,
     "metadata": {},
     "output_type": "execute_result"
    }
   ],
   "source": [
    "cities = [\"Accra\", \"Abuja\", \"Cairo\",\"Paris\", \"London\", \"Berlin\"]\n",
    "cities"
   ]
  },
  {
   "cell_type": "code",
   "execution_count": 42,
   "id": "06f4f8b1",
   "metadata": {},
   "outputs": [
    {
     "data": {
      "text/plain": [
       "6"
      ]
     },
     "execution_count": 42,
     "metadata": {},
     "output_type": "execute_result"
    }
   ],
   "source": [
    "len(cities)"
   ]
  },
  {
   "cell_type": "code",
   "execution_count": 43,
   "id": "13f1760c",
   "metadata": {},
   "outputs": [
    {
     "data": {
      "text/plain": [
       "5"
      ]
     },
     "execution_count": 43,
     "metadata": {},
     "output_type": "execute_result"
    }
   ],
   "source": [
    "len(cities[0])"
   ]
  },
  {
   "cell_type": "code",
   "execution_count": 44,
   "id": "c5517ed4",
   "metadata": {},
   "outputs": [
    {
     "data": {
      "text/plain": [
       "['Accra', 'Abuja', 'Cairo', 'Paris', 'London', 'Berlin', 'New York']"
      ]
     },
     "execution_count": 44,
     "metadata": {},
     "output_type": "execute_result"
    }
   ],
   "source": [
    "cities.append(\"New York\")\n",
    "cities"
   ]
  },
  {
   "cell_type": "code",
   "execution_count": 45,
   "id": "c6368296",
   "metadata": {},
   "outputs": [
    {
     "data": {
      "text/plain": [
       "['Accra', 'Abuja', 'Cairo', 'Paris', 'London', 'Berlin', 'New York', 'Abidjan']"
      ]
     },
     "execution_count": 45,
     "metadata": {},
     "output_type": "execute_result"
    }
   ],
   "source": [
    "cities.append(\"Abidjan\")\n",
    "cities"
   ]
  },
  {
   "cell_type": "code",
   "execution_count": 46,
   "id": "f694b749",
   "metadata": {},
   "outputs": [
    {
     "data": {
      "text/plain": [
       "['Accra',\n",
       " 'Abuja',\n",
       " 'Cairo',\n",
       " 'Paris',\n",
       " 'London',\n",
       " 'Berlin',\n",
       " 'New York',\n",
       " 'Abidjan',\n",
       " 'Sydney']"
      ]
     },
     "execution_count": 46,
     "metadata": {},
     "output_type": "execute_result"
    }
   ],
   "source": [
    "cities.append(\"Sydney\")\n",
    "cities"
   ]
  },
  {
   "cell_type": "code",
   "execution_count": 47,
   "id": "b3fa5c22",
   "metadata": {},
   "outputs": [
    {
     "data": {
      "text/plain": [
       "['Abidjan',\n",
       " 'Abuja',\n",
       " 'Accra',\n",
       " 'Berlin',\n",
       " 'Cairo',\n",
       " 'London',\n",
       " 'New York',\n",
       " 'Paris',\n",
       " 'Sydney']"
      ]
     },
     "execution_count": 47,
     "metadata": {},
     "output_type": "execute_result"
    }
   ],
   "source": [
    "cities.sort()\n",
    "cities"
   ]
  },
  {
   "cell_type": "code",
   "execution_count": 48,
   "id": "981c2a9b",
   "metadata": {},
   "outputs": [
    {
     "data": {
      "text/plain": [
       "['Sydney',\n",
       " 'Abuja',\n",
       " 'Accra',\n",
       " 'Berlin',\n",
       " 'Cairo',\n",
       " 'London',\n",
       " 'New York',\n",
       " 'Paris',\n",
       " 'Abidjan']"
      ]
     },
     "execution_count": 48,
     "metadata": {},
     "output_type": "execute_result"
    }
   ],
   "source": [
    "cities[-1], cities[0] = cities[0], cities[-1]\n",
    "cities"
   ]
  },
  {
   "cell_type": "code",
   "execution_count": 49,
   "id": "72f2c47f",
   "metadata": {},
   "outputs": [
    {
     "data": {
      "text/plain": [
       "1"
      ]
     },
     "execution_count": 49,
     "metadata": {},
     "output_type": "execute_result"
    }
   ],
   "source": [
    "a, b, c = 1, 2, 3\n",
    "a"
   ]
  },
  {
   "cell_type": "code",
   "execution_count": 50,
   "id": "b1ad6b52",
   "metadata": {},
   "outputs": [
    {
     "data": {
      "text/plain": [
       "2"
      ]
     },
     "execution_count": 50,
     "metadata": {},
     "output_type": "execute_result"
    }
   ],
   "source": [
    "b"
   ]
  },
  {
   "cell_type": "code",
   "execution_count": 51,
   "id": "93b01637",
   "metadata": {},
   "outputs": [
    {
     "data": {
      "text/plain": [
       "3"
      ]
     },
     "execution_count": 51,
     "metadata": {},
     "output_type": "execute_result"
    }
   ],
   "source": [
    "c"
   ]
  },
  {
   "cell_type": "code",
   "execution_count": 52,
   "id": "90d44fd5",
   "metadata": {},
   "outputs": [],
   "source": [
    "x, y = 5, 10\n",
    "x, y = y, x"
   ]
  },
  {
   "cell_type": "code",
   "execution_count": 53,
   "id": "4b8e70af",
   "metadata": {},
   "outputs": [
    {
     "data": {
      "text/plain": [
       "10"
      ]
     },
     "execution_count": 53,
     "metadata": {},
     "output_type": "execute_result"
    }
   ],
   "source": [
    "x"
   ]
  },
  {
   "cell_type": "code",
   "execution_count": 54,
   "id": "42582087",
   "metadata": {},
   "outputs": [
    {
     "data": {
      "text/plain": [
       "5"
      ]
     },
     "execution_count": 54,
     "metadata": {},
     "output_type": "execute_result"
    }
   ],
   "source": [
    "y"
   ]
  },
  {
   "cell_type": "code",
   "execution_count": 55,
   "id": "6071d22c",
   "metadata": {},
   "outputs": [
    {
     "data": {
      "text/plain": [
       "[1, 2, 3, 4, 5, 6, 7, 8, 9]"
      ]
     },
     "execution_count": 55,
     "metadata": {},
     "output_type": "execute_result"
    }
   ],
   "source": [
    "ages = [1, 2, 3, 4, 5, 6, 7, 8, 9]\n",
    "ages"
   ]
  },
  {
   "cell_type": "code",
   "execution_count": 57,
   "id": "9090d22a",
   "metadata": {},
   "outputs": [
    {
     "data": {
      "text/plain": [
       "int"
      ]
     },
     "execution_count": 57,
     "metadata": {},
     "output_type": "execute_result"
    }
   ],
   "source": [
    "type(ages[0])"
   ]
  },
  {
   "cell_type": "code",
   "execution_count": 58,
   "id": "275a8d52",
   "metadata": {},
   "outputs": [
    {
     "data": {
      "text/plain": [
       "[[1, 2], [3, 4], [5, 6]]"
      ]
     },
     "execution_count": 58,
     "metadata": {},
     "output_type": "execute_result"
    }
   ],
   "source": [
    "nums = [[1, 2], [3, 4], [5, 6]]\n",
    "nums"
   ]
  },
  {
   "cell_type": "code",
   "execution_count": 59,
   "id": "ab634cb1",
   "metadata": {},
   "outputs": [
    {
     "data": {
      "text/plain": [
       "[1, 2]"
      ]
     },
     "execution_count": 59,
     "metadata": {},
     "output_type": "execute_result"
    }
   ],
   "source": [
    "nums[0]"
   ]
  },
  {
   "cell_type": "code",
   "execution_count": 60,
   "id": "bd551c29",
   "metadata": {},
   "outputs": [
    {
     "data": {
      "text/plain": [
       "1"
      ]
     },
     "execution_count": 60,
     "metadata": {},
     "output_type": "execute_result"
    }
   ],
   "source": [
    "nums[0][0]"
   ]
  },
  {
   "cell_type": "code",
   "execution_count": 63,
   "id": "936898b4",
   "metadata": {},
   "outputs": [
    {
     "data": {
      "text/plain": [
       "5"
      ]
     },
     "execution_count": 63,
     "metadata": {},
     "output_type": "execute_result"
    }
   ],
   "source": [
    "nums[-1][0]"
   ]
  },
  {
   "cell_type": "code",
   "execution_count": 65,
   "id": "47a8fe1d",
   "metadata": {},
   "outputs": [
    {
     "data": {
      "text/plain": [
       "5"
      ]
     },
     "execution_count": 65,
     "metadata": {},
     "output_type": "execute_result"
    }
   ],
   "source": [
    "nums[2][0]"
   ]
  },
  {
   "cell_type": "code",
   "execution_count": 66,
   "id": "6667d26c",
   "metadata": {},
   "outputs": [
    {
     "data": {
      "text/plain": [
       "[[1, 2], [3, 4], [5, 6]]"
      ]
     },
     "execution_count": 66,
     "metadata": {},
     "output_type": "execute_result"
    }
   ],
   "source": [
    "nums"
   ]
  },
  {
   "cell_type": "code",
   "execution_count": 67,
   "id": "82f883e5",
   "metadata": {},
   "outputs": [
    {
     "data": {
      "text/plain": [
       "[3, 4]"
      ]
     },
     "execution_count": 67,
     "metadata": {},
     "output_type": "execute_result"
    }
   ],
   "source": [
    "nums[1]"
   ]
  },
  {
   "cell_type": "code",
   "execution_count": 68,
   "id": "b85392bf",
   "metadata": {},
   "outputs": [
    {
     "data": {
      "text/plain": [
       "3"
      ]
     },
     "execution_count": 68,
     "metadata": {},
     "output_type": "execute_result"
    }
   ],
   "source": [
    "nums[1][0]"
   ]
  },
  {
   "cell_type": "code",
   "execution_count": 72,
   "id": "bcf37bc9",
   "metadata": {},
   "outputs": [
    {
     "data": {
      "text/plain": [
       "[1, 2, 3, 4, 5, 6, 7, 8, 9]"
      ]
     },
     "execution_count": 72,
     "metadata": {},
     "output_type": "execute_result"
    }
   ],
   "source": [
    "ages"
   ]
  },
  {
   "cell_type": "code",
   "execution_count": 74,
   "id": "3150e258",
   "metadata": {},
   "outputs": [
    {
     "data": {
      "text/plain": [
       "[1, 2, 3, 4, 5, 6, 7, 8, 9]"
      ]
     },
     "execution_count": 74,
     "metadata": {},
     "output_type": "execute_result"
    }
   ],
   "source": [
    "\n",
    "\n",
    "scores = list(ages)\n",
    "scores"
   ]
  },
  {
   "cell_type": "code",
   "execution_count": null,
   "id": "3a33995f",
   "metadata": {},
   "outputs": [],
   "source": []
  },
  {
   "cell_type": "code",
   "execution_count": null,
   "id": "ad9fae82",
   "metadata": {},
   "outputs": [],
   "source": []
  },
  {
   "cell_type": "code",
   "execution_count": 71,
   "id": "679de635",
   "metadata": {},
   "outputs": [
    {
     "data": {
      "text/plain": [
       "[0, 1, 2, 3, 4, 5, 6, 7, 8, 9, 10, 11, 12, 13, 14, 15, 16, 17, 18, 19, 20]"
      ]
     },
     "execution_count": 71,
     "metadata": {},
     "output_type": "execute_result"
    }
   ],
   "source": [
    "# range(start, end+1, step)\n",
    "# list() []\n",
    "numbers = list(range(0, 21))\n",
    "numbers"
   ]
  },
  {
   "cell_type": "code",
   "execution_count": null,
   "id": "434f7815",
   "metadata": {},
   "outputs": [],
   "source": []
  },
  {
   "cell_type": "code",
   "execution_count": 75,
   "id": "06e10faa",
   "metadata": {},
   "outputs": [
    {
     "data": {
      "text/plain": [
       "[1, 2, 3, 4, 5, 6, 7, 8, 9]"
      ]
     },
     "execution_count": 75,
     "metadata": {},
     "output_type": "execute_result"
    }
   ],
   "source": [
    "ages"
   ]
  },
  {
   "cell_type": "code",
   "execution_count": 77,
   "id": "bc9f0d40",
   "metadata": {},
   "outputs": [
    {
     "data": {
      "text/plain": [
       "[1, 2, 3, 4, 5, 6, 7, 8, 9]"
      ]
     },
     "execution_count": 77,
     "metadata": {},
     "output_type": "execute_result"
    }
   ],
   "source": [
    "ages = [1, 2, 3, 4, 5, 6, 7, 8, 9]\n",
    "ages"
   ]
  },
  {
   "cell_type": "code",
   "execution_count": 83,
   "id": "3c249947",
   "metadata": {},
   "outputs": [
    {
     "name": "stdout",
     "output_type": "stream",
     "text": [
      "0\n",
      "1\n",
      "2\n",
      "3\n",
      "4\n",
      "5\n",
      "6\n",
      "7\n",
      "8\n",
      "9\n",
      "10\n",
      "11\n",
      "12\n",
      "13\n",
      "14\n",
      "15\n",
      "16\n",
      "17\n",
      "18\n",
      "19\n",
      "20\n",
      "21\n",
      "22\n",
      "23\n",
      "24\n",
      "25\n",
      "26\n",
      "27\n",
      "28\n",
      "29\n",
      "30\n",
      "31\n",
      "32\n",
      "33\n",
      "34\n",
      "35\n",
      "36\n",
      "37\n",
      "38\n",
      "39\n",
      "40\n",
      "41\n",
      "42\n",
      "43\n",
      "44\n",
      "45\n",
      "46\n",
      "47\n",
      "48\n",
      "49\n",
      "50\n",
      "51\n",
      "52\n",
      "53\n",
      "54\n",
      "55\n",
      "56\n",
      "57\n",
      "58\n",
      "59\n",
      "60\n",
      "61\n",
      "62\n",
      "63\n",
      "64\n",
      "65\n",
      "66\n",
      "67\n",
      "68\n",
      "69\n",
      "70\n",
      "71\n",
      "72\n",
      "73\n",
      "74\n",
      "75\n",
      "76\n",
      "77\n",
      "78\n",
      "79\n",
      "80\n",
      "81\n",
      "82\n",
      "83\n",
      "84\n",
      "85\n",
      "86\n",
      "87\n",
      "88\n",
      "89\n",
      "90\n",
      "91\n",
      "92\n",
      "93\n",
      "94\n",
      "95\n",
      "96\n",
      "97\n",
      "98\n",
      "99\n",
      "100\n"
     ]
    }
   ],
   "source": [
    "# loop\n",
    "# for loop\n",
    "for item in range(0, 21):\n",
    "    print(item)"
   ]
  },
  {
   "cell_type": "code",
   "execution_count": null,
   "id": "42803a97",
   "metadata": {},
   "outputs": [],
   "source": []
  },
  {
   "cell_type": "code",
   "execution_count": null,
   "id": "977c2722",
   "metadata": {},
   "outputs": [],
   "source": []
  }
 ],
 "metadata": {
  "kernelspec": {
   "display_name": "Python 3 (ipykernel)",
   "language": "python",
   "name": "python3"
  },
  "language_info": {
   "codemirror_mode": {
    "name": "ipython",
    "version": 3
   },
   "file_extension": ".py",
   "mimetype": "text/x-python",
   "name": "python",
   "nbconvert_exporter": "python",
   "pygments_lexer": "ipython3",
   "version": "3.11.4"
  }
 },
 "nbformat": 4,
 "nbformat_minor": 5
}
