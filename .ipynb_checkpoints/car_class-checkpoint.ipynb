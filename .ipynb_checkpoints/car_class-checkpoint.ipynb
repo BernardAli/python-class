{
 "cells": [
  {
   "cell_type": "code",
   "execution_count": 1,
   "id": "3efe55a3",
   "metadata": {},
   "outputs": [],
   "source": [
    "class Car:\n",
    "    def __init__ (self, make, model, year, max_speed, mileage=0):\n",
    "        self.make = make\n",
    "        self.model = model\n",
    "        self.year = year\n",
    "        self.max_speed = max_speed\n",
    "        self.mileage = mileage\n",
    "        \n",
    "    def acceleration(self, speed):\n",
    "        if speed > self.max_speed:\n",
    "            print(f\"You have exceeded the speed limit. \\nSlow down!\")\n",
    "        else:\n",
    "            print(\"You're within the speed limit. \\nGood job!\")\n",
    "    \n",
    "    def update_mileage(self, distance):\n",
    "        self.mileage += distance"
   ]
  },
  {
   "cell_type": "code",
   "execution_count": 2,
   "id": "0b5336ba",
   "metadata": {},
   "outputs": [
    {
     "data": {
      "text/plain": [
       "10"
      ]
     },
     "execution_count": 2,
     "metadata": {},
     "output_type": "execute_result"
    }
   ],
   "source": [
    "car1 = Car(\"Lexus\", \"LS500h\", 2023, 199, 10)\n",
    "car1.mileage"
   ]
  },
  {
   "cell_type": "code",
   "execution_count": 4,
   "id": "190b65dc",
   "metadata": {},
   "outputs": [
    {
     "name": "stdout",
     "output_type": "stream",
     "text": [
      "You have exceeded the speed limit. \n",
      "Slow down!\n"
     ]
    }
   ],
   "source": [
    "car1.acceleration(210)"
   ]
  },
  {
   "cell_type": "code",
   "execution_count": 5,
   "id": "6bf125d2",
   "metadata": {},
   "outputs": [],
   "source": [
    "# class inheritance\n",
    "# parent, superclass\n",
    "# children, subclass\n"
   ]
  },
  {
   "cell_type": "code",
   "execution_count": 20,
   "id": "5152fed6",
   "metadata": {},
   "outputs": [],
   "source": [
    "# Inheritance\n",
    "# Multiple\n",
    "\n",
    "class ElectricCar(Car):\n",
    "    def __init__ (self, make, model, year, max_speed, mileage, battery_size):\n",
    "        self.battery_size = battery_size\n",
    "        Car.__init__(self, make, model, year, max_speed, mileage)\n",
    "        \n",
    "    def describe_battery(self):\n",
    "        print(f\"Your {self.model} has {self.battery_size}-kWh battery\")\n",
    "        \n",
    "    def acceleration(self, speed):\n",
    "        print(f\"You're going {speed}km/h\")\n",
    "        \n",
    "    def battery_distance(self):\n",
    "        distance = \n",
    "        print(f\"You can travel for {self.battery_size * 2.1} on a full charge\")"
   ]
  },
  {
   "cell_type": "code",
   "execution_count": 21,
   "id": "9ec5a5e5",
   "metadata": {},
   "outputs": [],
   "source": [
    "e_car1 = ElectricCar(\"Tesla\", \"Model S Plaid\", 2022, 167, 1000, 90)"
   ]
  },
  {
   "cell_type": "code",
   "execution_count": 16,
   "id": "68a3015a",
   "metadata": {},
   "outputs": [],
   "source": [
    "e_car1.update_mileage(3000)"
   ]
  },
  {
   "cell_type": "code",
   "execution_count": 17,
   "id": "6f2a6884",
   "metadata": {},
   "outputs": [
    {
     "data": {
      "text/plain": [
       "10000"
      ]
     },
     "execution_count": 17,
     "metadata": {},
     "output_type": "execute_result"
    }
   ],
   "source": [
    "e_car1.mileage"
   ]
  },
  {
   "cell_type": "code",
   "execution_count": 22,
   "id": "12f16a1f",
   "metadata": {},
   "outputs": [
    {
     "name": "stdout",
     "output_type": "stream",
     "text": [
      "You're going 160km/h\n"
     ]
    }
   ],
   "source": [
    "e_car1.acceleration(160)"
   ]
  },
  {
   "cell_type": "code",
   "execution_count": null,
   "id": "baf371c2",
   "metadata": {},
   "outputs": [],
   "source": []
  }
 ],
 "metadata": {
  "kernelspec": {
   "display_name": "Python 3 (ipykernel)",
   "language": "python",
   "name": "python3"
  },
  "language_info": {
   "codemirror_mode": {
    "name": "ipython",
    "version": 3
   },
   "file_extension": ".py",
   "mimetype": "text/x-python",
   "name": "python",
   "nbconvert_exporter": "python",
   "pygments_lexer": "ipython3",
   "version": "3.11.4"
  }
 },
 "nbformat": 4,
 "nbformat_minor": 5
}
