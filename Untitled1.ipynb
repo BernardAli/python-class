{
 "cells": [
  {
   "cell_type": "code",
   "execution_count": 1,
   "id": "069d4897",
   "metadata": {},
   "outputs": [
    {
     "data": {
      "text/plain": [
       "['macbook', 'asus', 'dell', 'lenovo']"
      ]
     },
     "execution_count": 1,
     "metadata": {},
     "output_type": "execute_result"
    }
   ],
   "source": [
    "# list\n",
    "laptop_models = [\"macbook\", \"asus\", \"dell\", \"lenovo\"]\n",
    "laptop_models"
   ]
  },
  {
   "cell_type": "code",
   "execution_count": 2,
   "id": "d1db8934",
   "metadata": {},
   "outputs": [
    {
     "data": {
      "text/plain": [
       "4"
      ]
     },
     "execution_count": 2,
     "metadata": {},
     "output_type": "execute_result"
    }
   ],
   "source": [
    "len(laptop_models)"
   ]
  },
  {
   "cell_type": "code",
   "execution_count": 3,
   "id": "f0c5e674",
   "metadata": {},
   "outputs": [
    {
     "data": {
      "text/plain": [
       "['bank', 28, True, ['one', 'two']]"
      ]
     },
     "execution_count": 3,
     "metadata": {},
     "output_type": "execute_result"
    }
   ],
   "source": [
    "list_example = [\"bank\", 28, True, [\"one\", 'two']]\n",
    "list_example"
   ]
  },
  {
   "cell_type": "code",
   "execution_count": 4,
   "id": "a9169f83",
   "metadata": {},
   "outputs": [
    {
     "data": {
      "text/plain": [
       "4"
      ]
     },
     "execution_count": 4,
     "metadata": {},
     "output_type": "execute_result"
    }
   ],
   "source": [
    "len(list_example)"
   ]
  },
  {
   "cell_type": "code",
   "execution_count": null,
   "id": "e6a437ba",
   "metadata": {},
   "outputs": [
    {
     "data": {
      "text/plain": [
       "'macbook'"
      ]
     },
     "execution_count": 5,
     "metadata": {},
     "output_type": "execute_result"
    }
   ],
   "source": [
    "# laptop_models[position]\n",
    "laptop_models[0]"
   ]
  },
  {
   "cell_type": "code",
   "execution_count": null,
   "id": "57738ce9",
   "metadata": {},
   "outputs": [],
   "source": [
    "laptop_models[1]"
   ]
  },
  {
   "cell_type": "code",
   "execution_count": null,
   "id": "0f72fd36",
   "metadata": {},
   "outputs": [],
   "source": [
    "laptop_models[len(laptop_models) - 4]"
   ]
  },
  {
   "cell_type": "code",
   "execution_count": 8,
   "id": "190fd717",
   "metadata": {},
   "outputs": [
    {
     "data": {
      "text/plain": [
       "'lenovo'"
      ]
     },
     "execution_count": 8,
     "metadata": {},
     "output_type": "execute_result"
    }
   ],
   "source": [
    "laptop_models[-1]"
   ]
  },
  {
   "cell_type": "code",
   "execution_count": 9,
   "id": "272ee28e",
   "metadata": {},
   "outputs": [
    {
     "data": {
      "text/plain": [
       "'dell'"
      ]
     },
     "execution_count": 9,
     "metadata": {},
     "output_type": "execute_result"
    }
   ],
   "source": [
    "laptop_models[-2]"
   ]
  },
  {
   "cell_type": "code",
   "execution_count": 10,
   "id": "3a1353ed",
   "metadata": {},
   "outputs": [
    {
     "data": {
      "text/plain": [
       "['macbook', 'asus', 'dell', 'lenovo', 'sony']"
      ]
     },
     "execution_count": 10,
     "metadata": {},
     "output_type": "execute_result"
    }
   ],
   "source": [
    "# modification\n",
    "# add \n",
    "# append(), insert()\n",
    "laptop_models.append('sony')\n",
    "laptop_models"
   ]
  },
  {
   "cell_type": "code",
   "execution_count": 11,
   "id": "31a94d67",
   "metadata": {},
   "outputs": [
    {
     "data": {
      "text/plain": [
       "['hp', 'macbook', 'asus', 'dell', 'lenovo', 'sony']"
      ]
     },
     "execution_count": 11,
     "metadata": {},
     "output_type": "execute_result"
    }
   ],
   "source": [
    "laptop_models.insert(0, 'hp')\n",
    "laptop_models"
   ]
  },
  {
   "cell_type": "code",
   "execution_count": 12,
   "id": "f4d3eb71",
   "metadata": {},
   "outputs": [
    {
     "data": {
      "text/plain": [
       "['hp', 'macbook', 'toshiba', 'asus', 'dell', 'lenovo', 'sony']"
      ]
     },
     "execution_count": 12,
     "metadata": {},
     "output_type": "execute_result"
    }
   ],
   "source": [
    "laptop_models.insert(2, 'toshiba')\n",
    "laptop_models"
   ]
  },
  {
   "cell_type": "code",
   "execution_count": 13,
   "id": "8177dd6e",
   "metadata": {},
   "outputs": [
    {
     "data": {
      "text/plain": [
       "['hp', 'macbook', 'toshiba', 'asus', 'dell', 'lenovo']"
      ]
     },
     "execution_count": 13,
     "metadata": {},
     "output_type": "execute_result"
    }
   ],
   "source": [
    "# remove\n",
    "# pop(), remove(), del\n",
    "laptop_models.pop()\n",
    "laptop_models"
   ]
  },
  {
   "cell_type": "code",
   "execution_count": 14,
   "id": "4dcea100",
   "metadata": {},
   "outputs": [
    {
     "data": {
      "text/plain": [
       "['hp', 'macbook', 'asus', 'dell', 'lenovo']"
      ]
     },
     "execution_count": 14,
     "metadata": {},
     "output_type": "execute_result"
    }
   ],
   "source": [
    "laptop_models.pop(2)\n",
    "laptop_models"
   ]
  },
  {
   "cell_type": "code",
   "execution_count": 15,
   "id": "6e2772c8",
   "metadata": {},
   "outputs": [
    {
     "data": {
      "text/plain": [
       "['hp', 'macbook', 'dell', 'lenovo']"
      ]
     },
     "execution_count": 15,
     "metadata": {},
     "output_type": "execute_result"
    }
   ],
   "source": [
    "laptop_models.remove('asus')\n",
    "laptop_models"
   ]
  },
  {
   "cell_type": "code",
   "execution_count": 16,
   "id": "c029e5e9",
   "metadata": {},
   "outputs": [
    {
     "data": {
      "text/plain": [
       "['hp', 'macbook', 'lenovo']"
      ]
     },
     "execution_count": 16,
     "metadata": {},
     "output_type": "execute_result"
    }
   ],
   "source": [
    "del laptop_models[2]\n",
    "laptop_models"
   ]
  },
  {
   "cell_type": "code",
   "execution_count": 17,
   "id": "3cb30436",
   "metadata": {},
   "outputs": [
    {
     "data": {
      "text/plain": [
       "'ben'"
      ]
     },
     "execution_count": 17,
     "metadata": {},
     "output_type": "execute_result"
    }
   ],
   "source": [
    "name = \"ben\"\n",
    "name"
   ]
  },
  {
   "cell_type": "code",
   "execution_count": 18,
   "id": "fbf9d52a",
   "metadata": {},
   "outputs": [
    {
     "data": {
      "text/plain": [
       "'ben'"
      ]
     },
     "execution_count": 18,
     "metadata": {},
     "output_type": "execute_result"
    }
   ],
   "source": [
    "name"
   ]
  },
  {
   "cell_type": "code",
   "execution_count": 19,
   "id": "7d890163",
   "metadata": {},
   "outputs": [],
   "source": [
    "del name"
   ]
  },
  {
   "cell_type": "code",
   "execution_count": 20,
   "id": "9d8f7619",
   "metadata": {},
   "outputs": [
    {
     "ename": "NameError",
     "evalue": "name 'name' is not defined",
     "output_type": "error",
     "traceback": [
      "\u001b[1;31m---------------------------------------------------------------------------\u001b[0m",
      "\u001b[1;31mNameError\u001b[0m                                 Traceback (most recent call last)",
      "Cell \u001b[1;32mIn[20], line 1\u001b[0m\n\u001b[1;32m----> 1\u001b[0m \u001b[43mname\u001b[49m\n",
      "\u001b[1;31mNameError\u001b[0m: name 'name' is not defined"
     ]
    }
   ],
   "source": [
    "name"
   ]
  },
  {
   "cell_type": "code",
   "execution_count": 21,
   "id": "61913e74",
   "metadata": {},
   "outputs": [
    {
     "data": {
      "text/plain": [
       "['toyota', 'mitsuibishi', 'audi', 'ford', 'volvo', 'hyundai', 'kia', 'opel']"
      ]
     },
     "execution_count": 21,
     "metadata": {},
     "output_type": "execute_result"
    }
   ],
   "source": [
    "cars = ['toyota', 'mitsuibishi', 'audi', 'ford', 'volvo', 'hyundai', 'kia', 'opel']\n",
    "cars"
   ]
  },
  {
   "cell_type": "code",
   "execution_count": 22,
   "id": "cac91f02",
   "metadata": {},
   "outputs": [
    {
     "data": {
      "text/plain": [
       "8"
      ]
     },
     "execution_count": 22,
     "metadata": {},
     "output_type": "execute_result"
    }
   ],
   "source": [
    "len(cars)"
   ]
  },
  {
   "cell_type": "code",
   "execution_count": 23,
   "id": "e2717660",
   "metadata": {},
   "outputs": [
    {
     "data": {
      "text/plain": [
       "['audi', 'ford', 'hyundai', 'kia', 'mitsuibishi', 'opel', 'toyota', 'volvo']"
      ]
     },
     "execution_count": 23,
     "metadata": {},
     "output_type": "execute_result"
    }
   ],
   "source": [
    "# sort\n",
    "# temporal\n",
    "# permanent\n",
    "\n",
    "sorted(cars)"
   ]
  },
  {
   "cell_type": "code",
   "execution_count": 24,
   "id": "689437ff",
   "metadata": {},
   "outputs": [
    {
     "data": {
      "text/plain": [
       "['toyota', 'mitsuibishi', 'audi', 'ford', 'volvo', 'hyundai', 'kia', 'opel']"
      ]
     },
     "execution_count": 24,
     "metadata": {},
     "output_type": "execute_result"
    }
   ],
   "source": [
    "cars"
   ]
  },
  {
   "cell_type": "code",
   "execution_count": 25,
   "id": "a31e4b1c",
   "metadata": {},
   "outputs": [],
   "source": [
    "cars.sort()"
   ]
  },
  {
   "cell_type": "code",
   "execution_count": 26,
   "id": "d96221bf",
   "metadata": {},
   "outputs": [
    {
     "data": {
      "text/plain": [
       "['audi', 'ford', 'hyundai', 'kia', 'mitsuibishi', 'opel', 'toyota', 'volvo']"
      ]
     },
     "execution_count": 26,
     "metadata": {},
     "output_type": "execute_result"
    }
   ],
   "source": [
    "cars"
   ]
  },
  {
   "cell_type": "code",
   "execution_count": 27,
   "id": "398ed28b",
   "metadata": {},
   "outputs": [
    {
     "data": {
      "text/plain": [
       "['audi', 'ford', 'hyundai', 'kia', 'mitsuibishi', 'opel', 'toyota', 'volvo']"
      ]
     },
     "execution_count": 27,
     "metadata": {},
     "output_type": "execute_result"
    }
   ],
   "source": [
    "cars"
   ]
  },
  {
   "cell_type": "code",
   "execution_count": 28,
   "id": "97cec98b",
   "metadata": {},
   "outputs": [
    {
     "data": {
      "text/plain": [
       "['toyota', 'mitsuibishi', 'audi', 'ford', 'volvo', 'hyundai', 'kia', 'opel']"
      ]
     },
     "execution_count": 28,
     "metadata": {},
     "output_type": "execute_result"
    }
   ],
   "source": [
    "cars = ['toyota', 'mitsuibishi', 'audi', 'ford', 'volvo', 'hyundai', 'kia', 'opel']\n",
    "cars"
   ]
  },
  {
   "cell_type": "code",
   "execution_count": 29,
   "id": "12ce8b69",
   "metadata": {},
   "outputs": [
    {
     "data": {
      "text/plain": [
       "['audi', 'ford', 'hyundai', 'kia', 'mitsuibishi', 'opel', 'toyota', 'volvo']"
      ]
     },
     "execution_count": 29,
     "metadata": {},
     "output_type": "execute_result"
    }
   ],
   "source": [
    "sorted_cars = sorted(cars)\n",
    "sorted_cars"
   ]
  },
  {
   "cell_type": "code",
   "execution_count": 30,
   "id": "e7b869bb",
   "metadata": {},
   "outputs": [
    {
     "data": {
      "text/plain": [
       "['toyota', 'mitsuibishi', 'audi', 'ford', 'volvo', 'hyundai', 'kia', 'opel']"
      ]
     },
     "execution_count": 30,
     "metadata": {},
     "output_type": "execute_result"
    }
   ],
   "source": [
    "cars"
   ]
  },
  {
   "cell_type": "code",
   "execution_count": 31,
   "id": "801578f7",
   "metadata": {},
   "outputs": [
    {
     "data": {
      "text/plain": [
       "5"
      ]
     },
     "execution_count": 31,
     "metadata": {},
     "output_type": "execute_result"
    }
   ],
   "source": [
    "name = \"Kwame\"\n",
    "len(name)"
   ]
  },
  {
   "cell_type": "code",
   "execution_count": 32,
   "id": "986eeb1e",
   "metadata": {},
   "outputs": [
    {
     "data": {
      "text/plain": [
       "11"
      ]
     },
     "execution_count": 32,
     "metadata": {},
     "output_type": "execute_result"
    }
   ],
   "source": [
    "len(cars[1])"
   ]
  },
  {
   "cell_type": "code",
   "execution_count": 33,
   "id": "07247c4d",
   "metadata": {},
   "outputs": [
    {
     "data": {
      "text/plain": [
       "11"
      ]
     },
     "execution_count": 33,
     "metadata": {},
     "output_type": "execute_result"
    }
   ],
   "source": [
    "car = cars[1]\n",
    "len(car)"
   ]
  },
  {
   "cell_type": "code",
   "execution_count": 34,
   "id": "70b6d9ef",
   "metadata": {},
   "outputs": [
    {
     "data": {
      "text/plain": [
       "7"
      ]
     },
     "execution_count": 34,
     "metadata": {},
     "output_type": "execute_result"
    }
   ],
   "source": [
    "ages = [10, 10, 12, 15, 20, 18, 20]\n",
    "len(ages)"
   ]
  },
  {
   "cell_type": "code",
   "execution_count": 35,
   "id": "6b30b389",
   "metadata": {},
   "outputs": [
    {
     "data": {
      "text/plain": [
       "[10, 10, 12, 15, 18, 20, 20]"
      ]
     },
     "execution_count": 35,
     "metadata": {},
     "output_type": "execute_result"
    }
   ],
   "source": [
    "sorted(ages)"
   ]
  },
  {
   "cell_type": "code",
   "execution_count": 36,
   "id": "291ba95e",
   "metadata": {},
   "outputs": [],
   "source": [
    "ages.reverse()"
   ]
  },
  {
   "cell_type": "code",
   "execution_count": 37,
   "id": "759df57e",
   "metadata": {},
   "outputs": [
    {
     "data": {
      "text/plain": [
       "[20, 18, 20, 15, 12, 10, 10]"
      ]
     },
     "execution_count": 37,
     "metadata": {},
     "output_type": "execute_result"
    }
   ],
   "source": [
    "ages"
   ]
  },
  {
   "cell_type": "code",
   "execution_count": 38,
   "id": "d31cf5a1",
   "metadata": {},
   "outputs": [
    {
     "data": {
      "text/plain": [
       "[20, 20, 18, 15, 12, 10, 10]"
      ]
     },
     "execution_count": 38,
     "metadata": {},
     "output_type": "execute_result"
    }
   ],
   "source": [
    "ages.sort(reverse=True)\n",
    "ages"
   ]
  },
  {
   "cell_type": "code",
   "execution_count": 39,
   "id": "1215ae7b",
   "metadata": {},
   "outputs": [
    {
     "data": {
      "text/plain": [
       "20"
      ]
     },
     "execution_count": 39,
     "metadata": {},
     "output_type": "execute_result"
    }
   ],
   "source": [
    "# basic stats\n",
    "# max, min, sum\n",
    "\n",
    "max(ages)"
   ]
  },
  {
   "cell_type": "code",
   "execution_count": 40,
   "id": "a79e5887",
   "metadata": {},
   "outputs": [
    {
     "data": {
      "text/plain": [
       "10"
      ]
     },
     "execution_count": 40,
     "metadata": {},
     "output_type": "execute_result"
    }
   ],
   "source": [
    "min(ages)"
   ]
  },
  {
   "cell_type": "code",
   "execution_count": 41,
   "id": "14753e7c",
   "metadata": {},
   "outputs": [
    {
     "data": {
      "text/plain": [
       "105"
      ]
     },
     "execution_count": 41,
     "metadata": {},
     "output_type": "execute_result"
    }
   ],
   "source": [
    "sum(ages)"
   ]
  },
  {
   "cell_type": "code",
   "execution_count": 42,
   "id": "66fcae9a",
   "metadata": {},
   "outputs": [
    {
     "data": {
      "text/plain": [
       "55"
      ]
     },
     "execution_count": 42,
     "metadata": {},
     "output_type": "execute_result"
    }
   ],
   "source": [
    "# range(start, end+1, step)\n",
    "# [0, 1, 2, 3, 4, 5, 6, 7, 8, 9, 10]\n",
    "\n",
    "nums = [0, 1, 2, 3, 4, 5, 6, 7, 8, 9, 10]\n",
    "sum(nums)\n"
   ]
  },
  {
   "cell_type": "code",
   "execution_count": 43,
   "id": "63d2b115",
   "metadata": {},
   "outputs": [
    {
     "data": {
      "text/plain": [
       "55"
      ]
     },
     "execution_count": 43,
     "metadata": {},
     "output_type": "execute_result"
    }
   ],
   "source": [
    "sum(range(0, 11))"
   ]
  },
  {
   "cell_type": "code",
   "execution_count": 44,
   "id": "8f80bfc0",
   "metadata": {},
   "outputs": [
    {
     "name": "stdout",
     "output_type": "stream",
     "text": [
      "0, 2, 4, 6, 8, 10, 12, 14, 16, 18, 20, "
     ]
    }
   ],
   "source": [
    "# for loop\n",
    "for n in nums:\n",
    "    print(n*2, end=\", \")"
   ]
  },
  {
   "cell_type": "code",
   "execution_count": 45,
   "id": "3ff2d0f8",
   "metadata": {},
   "outputs": [
    {
     "data": {
      "text/plain": [
       "'Welcome to python\\nland'"
      ]
     },
     "execution_count": 45,
     "metadata": {},
     "output_type": "execute_result"
    }
   ],
   "source": [
    "sentence = f\"Welcome to python\" + \"\\n\" + \"land\"\n",
    "sentence"
   ]
  },
  {
   "cell_type": "code",
   "execution_count": 46,
   "id": "ab128c0d",
   "metadata": {},
   "outputs": [
    {
     "name": "stdout",
     "output_type": "stream",
     "text": [
      "0\n",
      "1\n",
      "4\n",
      "9\n",
      "16\n",
      "25\n",
      "36\n",
      "49\n",
      "64\n",
      "81\n",
      "100\n"
     ]
    }
   ],
   "source": [
    "for num in nums:\n",
    "    print(num ** 2)"
   ]
  },
  {
   "cell_type": "code",
   "execution_count": 47,
   "id": "ee21b9db",
   "metadata": {},
   "outputs": [
    {
     "data": {
      "text/plain": [
       "[0, 1, 4, 9, 16, 25, 36, 49, 64, 81, 100]"
      ]
     },
     "execution_count": 47,
     "metadata": {},
     "output_type": "execute_result"
    }
   ],
   "source": [
    "nums = [0, 1, 2, 3, 4, 5, 6, 7, 8, 9, 10]\n",
    "\n",
    "# find the sum of the squared values between 0 and 10 \n",
    "squared_values = []\n",
    "for n in nums:\n",
    "    squared_values.append(n ** 2)\n",
    "    \n",
    "squared_values"
   ]
  },
  {
   "cell_type": "code",
   "execution_count": 48,
   "id": "a597710b",
   "metadata": {},
   "outputs": [
    {
     "data": {
      "text/plain": [
       "385"
      ]
     },
     "execution_count": 48,
     "metadata": {},
     "output_type": "execute_result"
    }
   ],
   "source": [
    "sum(squared_values)"
   ]
  },
  {
   "cell_type": "code",
   "execution_count": 49,
   "id": "f7a4ea04",
   "metadata": {},
   "outputs": [
    {
     "data": {
      "text/plain": [
       "[1000, 1331, 1728, 2197, 2744, 3375, 4096, 4913, 5832, 6859, 8000]"
      ]
     },
     "execution_count": 49,
     "metadata": {},
     "output_type": "execute_result"
    }
   ],
   "source": [
    "# find the sum of the cubed values between 10 and 20 using the range method.\n",
    "# range(start, end+1, step)\n",
    "\n",
    "cubed_values = []\n",
    "for num in range(10, 21):\n",
    "    cubed_values.append(num ** 3)\n",
    "    \n",
    "cubed_values"
   ]
  },
  {
   "cell_type": "code",
   "execution_count": 50,
   "id": "d8fdeca6",
   "metadata": {},
   "outputs": [
    {
     "data": {
      "text/plain": [
       "42075"
      ]
     },
     "execution_count": 50,
     "metadata": {},
     "output_type": "execute_result"
    }
   ],
   "source": [
    "sum(cubed_values)"
   ]
  },
  {
   "cell_type": "code",
   "execution_count": 51,
   "id": "fe7996a0",
   "metadata": {},
   "outputs": [],
   "source": [
    "new_values = []\n",
    "for num in range(0, 11):\n",
    "    a = 10\n",
    "    new_values.append(num + a)\n",
    "    \n",
    "    "
   ]
  },
  {
   "cell_type": "code",
   "execution_count": 52,
   "id": "f3a6d631",
   "metadata": {},
   "outputs": [
    {
     "data": {
      "text/plain": [
       "[10, 11, 12, 13, 14, 15, 16, 17, 18, 19, 20]"
      ]
     },
     "execution_count": 52,
     "metadata": {},
     "output_type": "execute_result"
    }
   ],
   "source": [
    "numbers = range(10, 21)\n",
    "list(numbers)"
   ]
  },
  {
   "cell_type": "code",
   "execution_count": 53,
   "id": "7f599ae7",
   "metadata": {},
   "outputs": [
    {
     "data": {
      "text/plain": [
       "True"
      ]
     },
     "execution_count": 53,
     "metadata": {},
     "output_type": "execute_result"
    }
   ],
   "source": [
    "15 in numbers"
   ]
  },
  {
   "cell_type": "code",
   "execution_count": 54,
   "id": "3630565f",
   "metadata": {},
   "outputs": [
    {
     "data": {
      "text/plain": [
       "False"
      ]
     },
     "execution_count": 54,
     "metadata": {},
     "output_type": "execute_result"
    }
   ],
   "source": [
    "21 in numbers"
   ]
  },
  {
   "cell_type": "code",
   "execution_count": 55,
   "id": "ca473f34",
   "metadata": {},
   "outputs": [
    {
     "data": {
      "text/plain": [
       "True"
      ]
     },
     "execution_count": 55,
     "metadata": {},
     "output_type": "execute_result"
    }
   ],
   "source": [
    "# branching\n",
    "# Truthy or Falsey\n",
    "# Boolean True, False\n",
    "# Comparison Operators\n",
    "# ==, !=, >, >=, <, <=\n",
    "1 == 1"
   ]
  },
  {
   "cell_type": "code",
   "execution_count": 56,
   "id": "3e918487",
   "metadata": {},
   "outputs": [
    {
     "data": {
      "text/plain": [
       "False"
      ]
     },
     "execution_count": 56,
     "metadata": {},
     "output_type": "execute_result"
    }
   ],
   "source": [
    "1 > 9"
   ]
  },
  {
   "cell_type": "code",
   "execution_count": 57,
   "id": "7020e159",
   "metadata": {},
   "outputs": [
    {
     "data": {
      "text/plain": [
       "True"
      ]
     },
     "execution_count": 57,
     "metadata": {},
     "output_type": "execute_result"
    }
   ],
   "source": [
    "10 >= 8"
   ]
  },
  {
   "cell_type": "code",
   "execution_count": 58,
   "id": "50e38b69",
   "metadata": {},
   "outputs": [
    {
     "data": {
      "text/plain": [
       "True"
      ]
     },
     "execution_count": 58,
     "metadata": {},
     "output_type": "execute_result"
    }
   ],
   "source": [
    "9 != 10"
   ]
  },
  {
   "cell_type": "code",
   "execution_count": 59,
   "id": "b8c976f6",
   "metadata": {},
   "outputs": [
    {
     "data": {
      "text/plain": [
       "True"
      ]
     },
     "execution_count": 59,
     "metadata": {},
     "output_type": "execute_result"
    }
   ],
   "source": [
    "# Logical Operators\n",
    "# and, or\n",
    "(1 == 1) and (10 < 19)"
   ]
  },
  {
   "cell_type": "code",
   "execution_count": 60,
   "id": "335c0ed7",
   "metadata": {},
   "outputs": [
    {
     "data": {
      "text/plain": [
       "True"
      ]
     },
     "execution_count": 60,
     "metadata": {},
     "output_type": "execute_result"
    }
   ],
   "source": [
    "(1 != 1) or (10 < 19)"
   ]
  },
  {
   "cell_type": "code",
   "execution_count": 61,
   "id": "6a99c300",
   "metadata": {},
   "outputs": [],
   "source": [
    "my_age = 82\n",
    "my_age = 83"
   ]
  },
  {
   "cell_type": "code",
   "execution_count": 62,
   "id": "d91ae81f",
   "metadata": {},
   "outputs": [
    {
     "data": {
      "text/plain": [
       "83"
      ]
     },
     "execution_count": 62,
     "metadata": {},
     "output_type": "execute_result"
    }
   ],
   "source": [
    "my_age"
   ]
  },
  {
   "cell_type": "code",
   "execution_count": 63,
   "id": "0ac16e13",
   "metadata": {},
   "outputs": [
    {
     "data": {
      "text/plain": [
       "2"
      ]
     },
     "execution_count": 63,
     "metadata": {},
     "output_type": "execute_result"
    }
   ],
   "source": [
    "20 % 3"
   ]
  },
  {
   "cell_type": "code",
   "execution_count": 64,
   "id": "10547af0",
   "metadata": {},
   "outputs": [
    {
     "name": "stdout",
     "output_type": "stream",
     "text": [
      "0 is even\n",
      "1 is old\n",
      "2 is even\n",
      "3 is old\n",
      "4 is even\n",
      "5 is old\n",
      "6 is even\n",
      "7 is old\n",
      "8 is even\n",
      "9 is old\n",
      "10 is even\n"
     ]
    }
   ],
   "source": [
    "for n in range(0, 11):\n",
    "    if n % 2 == 0:\n",
    "        print(f\"{n} is even\")\n",
    "    else:\n",
    "        print(f\"{n} is old\")"
   ]
  },
  {
   "cell_type": "code",
   "execution_count": 65,
   "id": "4329afdc",
   "metadata": {},
   "outputs": [
    {
     "name": "stdout",
     "output_type": "stream",
     "text": [
      "you are a minor\n"
     ]
    }
   ],
   "source": [
    "# if statements\n",
    "# if (condition):\n",
    "#    perform an action\n",
    "#else:\n",
    "#    we perform different action\n",
    "\n",
    "age = 17\n",
    "if (age >= 18):\n",
    "    print(\"you can vote\")\n",
    "else:\n",
    "    print(\"you are a minor\")"
   ]
  },
  {
   "cell_type": "code",
   "execution_count": 66,
   "id": "6d397e79",
   "metadata": {},
   "outputs": [
    {
     "data": {
      "text/plain": [
       "[0, 2, 4, 6, 8, 10, 12, 14, 16, 18, 20]"
      ]
     },
     "execution_count": 66,
     "metadata": {},
     "output_type": "execute_result"
    }
   ],
   "source": [
    "even = []\n",
    "odd = []\n",
    "numbers = range(0, 21)\n",
    "\n",
    "for n in numbers:\n",
    "    if n % 2 == 0:\n",
    "        even.append(n)\n",
    "    else:\n",
    "        odd.append(n)\n",
    "\n",
    "even"
   ]
  },
  {
   "cell_type": "code",
   "execution_count": 67,
   "id": "032fcb9d",
   "metadata": {},
   "outputs": [
    {
     "data": {
      "text/plain": [
       "[1, 3, 5, 7, 9, 11, 13, 15, 17, 19]"
      ]
     },
     "execution_count": 67,
     "metadata": {},
     "output_type": "execute_result"
    }
   ],
   "source": [
    "odd"
   ]
  },
  {
   "cell_type": "code",
   "execution_count": 68,
   "id": "d309bc76",
   "metadata": {},
   "outputs": [
    {
     "name": "stdout",
     "output_type": "stream",
     "text": [
      "You are a minor\n"
     ]
    }
   ],
   "source": [
    "age = 10\n",
    "\n",
    "if age >= 21:\n",
    "    print(\"You can allowed to take alcohol\")\n",
    "elif age >= 18:\n",
    "    print(\"You can vote\")\n",
    "elif age >= 16:\n",
    "    print(\"You can drive\")\n",
    "else:\n",
    "    print(\"You are a minor\")"
   ]
  },
  {
   "cell_type": "code",
   "execution_count": 69,
   "id": "cab5023d",
   "metadata": {},
   "outputs": [],
   "source": [
    "# grading scheme\n",
    "# 80 -> 100 A\n",
    "# 70 -> 79 B\n",
    "# 60 -> 69 C\n",
    "# 50 -> 59 D\n",
    "# <50 -> F\n",
    "\n",
    "\n",
    "# assuming you have 9 students in the class\n",
    "# with the ff scores, 89, 69, 90, 48, 80, 77, 60, 72, 59\n",
    "# use the above if statement to determine their grades."
   ]
  },
  {
   "cell_type": "code",
   "execution_count": 1,
   "id": "55263198",
   "metadata": {},
   "outputs": [
    {
     "data": {
      "text/plain": [
       "6"
      ]
     },
     "execution_count": 1,
     "metadata": {},
     "output_type": "execute_result"
    }
   ],
   "source": [
    "# slicing\n",
    "nums = [0, 1, 2, 3, 4, 5, 6, 7, 8, 9, 10]\n",
    "nums[6] slice[start: end]"
   ]
  },
  {
   "cell_type": "code",
   "execution_count": 71,
   "id": "be627d60",
   "metadata": {},
   "outputs": [
    {
     "data": {
      "text/plain": [
       "[2, 3, 4, 5]"
      ]
     },
     "execution_count": 71,
     "metadata": {},
     "output_type": "execute_result"
    }
   ],
   "source": [
    "ex = nums[2:6]\n",
    "ex"
   ]
  },
  {
   "cell_type": "code",
   "execution_count": 2,
   "id": "63ecf492",
   "metadata": {},
   "outputs": [
    {
     "data": {
      "text/plain": [
       "[0, 2, 4]"
      ]
     },
     "execution_count": 2,
     "metadata": {},
     "output_type": "execute_result"
    }
   ],
   "source": [
    "a = nums[:6:2]\n",
    "a"
   ]
  },
  {
   "cell_type": "code",
   "execution_count": 73,
   "id": "2f561fb1",
   "metadata": {},
   "outputs": [
    {
     "data": {
      "text/plain": [
       "[6, 7, 8, 9, 10]"
      ]
     },
     "execution_count": 73,
     "metadata": {},
     "output_type": "execute_result"
    }
   ],
   "source": [
    "b = nums[6:]\n",
    "b"
   ]
  },
  {
   "cell_type": "code",
   "execution_count": 4,
   "id": "5e492b3f",
   "metadata": {},
   "outputs": [
    {
     "data": {
      "text/plain": [
       "[0, 3, 6, 9]"
      ]
     },
     "execution_count": 4,
     "metadata": {},
     "output_type": "execute_result"
    }
   ],
   "source": [
    "c = nums[::3]\n",
    "c"
   ]
  },
  {
   "cell_type": "code",
   "execution_count": 75,
   "id": "3b67fb6f",
   "metadata": {},
   "outputs": [
    {
     "data": {
      "text/plain": [
       "[0, 1, 2, 3, 4, 5, 6, 7, 8, 9, 10]"
      ]
     },
     "execution_count": 75,
     "metadata": {},
     "output_type": "execute_result"
    }
   ],
   "source": [
    "nums"
   ]
  },
  {
   "cell_type": "code",
   "execution_count": 76,
   "id": "0f8881c4",
   "metadata": {},
   "outputs": [],
   "source": [
    "nums_copy = nums"
   ]
  },
  {
   "cell_type": "code",
   "execution_count": 77,
   "id": "28f3d325",
   "metadata": {},
   "outputs": [
    {
     "data": {
      "text/plain": [
       "[0, 1, 2, 3, 4, 5, 6, 7, 8, 9, 10]"
      ]
     },
     "execution_count": 77,
     "metadata": {},
     "output_type": "execute_result"
    }
   ],
   "source": [
    "nums_copy"
   ]
  },
  {
   "cell_type": "code",
   "execution_count": 78,
   "id": "970b0789",
   "metadata": {},
   "outputs": [
    {
     "data": {
      "text/plain": [
       "[0, 1, 2, 3, 4, 5, 6, 7, 8, 9, 10, 11]"
      ]
     },
     "execution_count": 78,
     "metadata": {},
     "output_type": "execute_result"
    }
   ],
   "source": [
    "nums_copy.append(11)\n",
    "nums_copy"
   ]
  },
  {
   "cell_type": "code",
   "execution_count": 79,
   "id": "78fb2d7e",
   "metadata": {},
   "outputs": [
    {
     "data": {
      "text/plain": [
       "[0, 1, 2, 3, 4, 5, 6, 7, 8, 9, 10, 11]"
      ]
     },
     "execution_count": 79,
     "metadata": {},
     "output_type": "execute_result"
    }
   ],
   "source": [
    "nums"
   ]
  },
  {
   "cell_type": "code",
   "execution_count": 80,
   "id": "488e33f2",
   "metadata": {},
   "outputs": [
    {
     "data": {
      "text/plain": [
       "[0, 1, 2, 3, 4, 5, 6, 7, 8, 9, 10, 11]"
      ]
     },
     "execution_count": 80,
     "metadata": {},
     "output_type": "execute_result"
    }
   ],
   "source": [
    "nums_copy_right = nums[:]\n",
    "nums_copy_right"
   ]
  },
  {
   "cell_type": "code",
   "execution_count": 81,
   "id": "e46883f3",
   "metadata": {},
   "outputs": [
    {
     "data": {
      "text/plain": [
       "[0, 1, 2, 3, 4, 5, 6, 7, 8, 9, 10, 11, 12]"
      ]
     },
     "execution_count": 81,
     "metadata": {},
     "output_type": "execute_result"
    }
   ],
   "source": [
    "nums_copy_right.append(12)\n",
    "nums_copy_right"
   ]
  },
  {
   "cell_type": "code",
   "execution_count": 82,
   "id": "fa64e735",
   "metadata": {},
   "outputs": [
    {
     "data": {
      "text/plain": [
       "[0, 1, 2, 3, 4, 5, 6, 7, 8, 9, 10, 11]"
      ]
     },
     "execution_count": 82,
     "metadata": {},
     "output_type": "execute_result"
    }
   ],
   "source": [
    "nums"
   ]
  },
  {
   "cell_type": "code",
   "execution_count": 83,
   "id": "fedc8859",
   "metadata": {},
   "outputs": [
    {
     "data": {
      "text/plain": [
       "15"
      ]
     },
     "execution_count": 83,
     "metadata": {},
     "output_type": "execute_result"
    }
   ],
   "source": [
    "d = 15\n",
    "d"
   ]
  },
  {
   "cell_type": "code",
   "execution_count": 84,
   "id": "03fd6f95",
   "metadata": {},
   "outputs": [
    {
     "data": {
      "text/plain": [
       "140724910220520"
      ]
     },
     "execution_count": 84,
     "metadata": {},
     "output_type": "execute_result"
    }
   ],
   "source": [
    "id(d)"
   ]
  },
  {
   "cell_type": "code",
   "execution_count": 85,
   "id": "5926cb61",
   "metadata": {},
   "outputs": [],
   "source": [
    "c = d"
   ]
  },
  {
   "cell_type": "code",
   "execution_count": 86,
   "id": "71362f18",
   "metadata": {},
   "outputs": [
    {
     "data": {
      "text/plain": [
       "140724910220520"
      ]
     },
     "execution_count": 86,
     "metadata": {},
     "output_type": "execute_result"
    }
   ],
   "source": [
    "id(c)"
   ]
  },
  {
   "cell_type": "code",
   "execution_count": 87,
   "id": "9cce0518",
   "metadata": {},
   "outputs": [
    {
     "data": {
      "text/plain": [
       "1234"
      ]
     },
     "execution_count": 87,
     "metadata": {},
     "output_type": "execute_result"
    }
   ],
   "source": [
    "e = 1234\n",
    "e"
   ]
  },
  {
   "cell_type": "code",
   "execution_count": 88,
   "id": "85eccc1f",
   "metadata": {},
   "outputs": [
    {
     "data": {
      "text/plain": [
       "2364990389584"
      ]
     },
     "execution_count": 88,
     "metadata": {},
     "output_type": "execute_result"
    }
   ],
   "source": [
    "id(e)"
   ]
  },
  {
   "cell_type": "code",
   "execution_count": 89,
   "id": "29a78227",
   "metadata": {},
   "outputs": [
    {
     "data": {
      "text/plain": [
       "(200, 150)"
      ]
     },
     "execution_count": 89,
     "metadata": {},
     "output_type": "execute_result"
    }
   ],
   "source": [
    "# Tuple\n",
    "ages = (200, 150)\n",
    "ages"
   ]
  },
  {
   "cell_type": "code",
   "execution_count": 90,
   "id": "ad93dc0c",
   "metadata": {},
   "outputs": [
    {
     "data": {
      "text/plain": [
       "150"
      ]
     },
     "execution_count": 90,
     "metadata": {},
     "output_type": "execute_result"
    }
   ],
   "source": [
    "ages[1]"
   ]
  },
  {
   "cell_type": "code",
   "execution_count": 91,
   "id": "231d50d2",
   "metadata": {},
   "outputs": [
    {
     "data": {
      "text/plain": [
       "200"
      ]
     },
     "execution_count": 91,
     "metadata": {},
     "output_type": "execute_result"
    }
   ],
   "source": [
    "ages[0]"
   ]
  },
  {
   "cell_type": "code",
   "execution_count": 92,
   "id": "e96f6745",
   "metadata": {},
   "outputs": [
    {
     "ename": "TypeError",
     "evalue": "'tuple' object does not support item assignment",
     "output_type": "error",
     "traceback": [
      "\u001b[1;31m---------------------------------------------------------------------------\u001b[0m",
      "\u001b[1;31mTypeError\u001b[0m                                 Traceback (most recent call last)",
      "Cell \u001b[1;32mIn[92], line 1\u001b[0m\n\u001b[1;32m----> 1\u001b[0m \u001b[43mages\u001b[49m\u001b[43m[\u001b[49m\u001b[38;5;241;43m0\u001b[39;49m\u001b[43m]\u001b[49m \u001b[38;5;241m=\u001b[39m \u001b[38;5;241m200\u001b[39m\n",
      "\u001b[1;31mTypeError\u001b[0m: 'tuple' object does not support item assignment"
     ]
    }
   ],
   "source": [
    "ages[0] = 200"
   ]
  },
  {
   "cell_type": "code",
   "execution_count": 93,
   "id": "6a8a9b81",
   "metadata": {},
   "outputs": [
    {
     "name": "stdout",
     "output_type": "stream",
     "text": [
      "40000\n",
      "22500\n"
     ]
    }
   ],
   "source": [
    "for i in ages:\n",
    "    print(i ** 2)"
   ]
  },
  {
   "cell_type": "code",
   "execution_count": 94,
   "id": "09e291ed",
   "metadata": {},
   "outputs": [
    {
     "data": {
      "text/plain": [
       "tuple"
      ]
     },
     "execution_count": 94,
     "metadata": {},
     "output_type": "execute_result"
    }
   ],
   "source": [
    "type(ages)"
   ]
  },
  {
   "cell_type": "code",
   "execution_count": 95,
   "id": "54c2a105",
   "metadata": {},
   "outputs": [
    {
     "data": {
      "text/plain": [
       "list"
      ]
     },
     "execution_count": 95,
     "metadata": {},
     "output_type": "execute_result"
    }
   ],
   "source": [
    "type(cars)"
   ]
  },
  {
   "cell_type": "code",
   "execution_count": 96,
   "id": "3d12de5c",
   "metadata": {},
   "outputs": [
    {
     "data": {
      "text/plain": [
       "tuple"
      ]
     },
     "execution_count": 96,
     "metadata": {},
     "output_type": "execute_result"
    }
   ],
   "source": [
    "brands = \"Nokia\", \"Samsung\"\n",
    "type(brands)"
   ]
  },
  {
   "cell_type": "code",
   "execution_count": 97,
   "id": "985ca254",
   "metadata": {},
   "outputs": [
    {
     "data": {
      "text/plain": [
       "tuple"
      ]
     },
     "execution_count": 97,
     "metadata": {},
     "output_type": "execute_result"
    }
   ],
   "source": [
    "tvs = \"LG\",\n",
    "type(tvs)"
   ]
  },
  {
   "cell_type": "code",
   "execution_count": 98,
   "id": "9099cb50",
   "metadata": {},
   "outputs": [
    {
     "data": {
      "text/plain": [
       "list"
      ]
     },
     "execution_count": 98,
     "metadata": {},
     "output_type": "execute_result"
    }
   ],
   "source": [
    "tvs = list(tvs)\n",
    "type(tvs)"
   ]
  },
  {
   "cell_type": "code",
   "execution_count": 99,
   "id": "9dfe4443",
   "metadata": {},
   "outputs": [
    {
     "data": {
      "text/plain": [
       "int"
      ]
     },
     "execution_count": 99,
     "metadata": {},
     "output_type": "execute_result"
    }
   ],
   "source": [
    "type(2)"
   ]
  },
  {
   "cell_type": "code",
   "execution_count": 100,
   "id": "32eef3e7",
   "metadata": {},
   "outputs": [
    {
     "data": {
      "text/plain": [
       "str"
      ]
     },
     "execution_count": 100,
     "metadata": {},
     "output_type": "execute_result"
    }
   ],
   "source": [
    "check_type = str(2)\n",
    "type(check_type)"
   ]
  },
  {
   "cell_type": "code",
   "execution_count": 101,
   "id": "9745ee78",
   "metadata": {},
   "outputs": [],
   "source": [
    "# dictionaries\n",
    "# key -> value pairs\n",
    "person = {\n",
    "    \"name\": \"Achy\",\n",
    "    \"age\": 82,\n",
    "    \"height\": 154,\n",
    "    \"isMale\": True\n",
    "}"
   ]
  },
  {
   "cell_type": "code",
   "execution_count": 102,
   "id": "bb66934a",
   "metadata": {},
   "outputs": [
    {
     "data": {
      "text/plain": [
       "{'name': 'Achy', 'age': 82, 'height': 154, 'isMale': True}"
      ]
     },
     "execution_count": 102,
     "metadata": {},
     "output_type": "execute_result"
    }
   ],
   "source": [
    "person"
   ]
  },
  {
   "cell_type": "code",
   "execution_count": 110,
   "id": "eb008dea",
   "metadata": {},
   "outputs": [
    {
     "name": "stdout",
     "output_type": "stream",
     "text": [
      "name Achy\n",
      "age 82\n",
      "height 154\n",
      "isMale True\n"
     ]
    }
   ],
   "source": [
    "for k, v in person.items():\n",
    "    print(k, v)"
   ]
  },
  {
   "cell_type": "code",
   "execution_count": 106,
   "id": "e2359454",
   "metadata": {},
   "outputs": [
    {
     "name": "stdout",
     "output_type": "stream",
     "text": [
      "name\n",
      "age\n",
      "height\n",
      "isMale\n"
     ]
    }
   ],
   "source": [
    "for key in person.keys():\n",
    "    print(key)"
   ]
  },
  {
   "cell_type": "code",
   "execution_count": 107,
   "id": "f874d5e2",
   "metadata": {},
   "outputs": [
    {
     "name": "stdout",
     "output_type": "stream",
     "text": [
      "Achy\n",
      "82\n",
      "154\n",
      "True\n"
     ]
    }
   ],
   "source": [
    "for values in person.values():\n",
    "    print(values)"
   ]
  },
  {
   "cell_type": "code",
   "execution_count": 111,
   "id": "07a324e5",
   "metadata": {},
   "outputs": [
    {
     "data": {
      "text/plain": [
       "'Achy'"
      ]
     },
     "execution_count": 111,
     "metadata": {},
     "output_type": "execute_result"
    }
   ],
   "source": [
    "person[\"name\"]"
   ]
  },
  {
   "cell_type": "code",
   "execution_count": 112,
   "id": "5834233b",
   "metadata": {},
   "outputs": [
    {
     "data": {
      "text/plain": [
       "82"
      ]
     },
     "execution_count": 112,
     "metadata": {},
     "output_type": "execute_result"
    }
   ],
   "source": [
    "person[\"age\"]"
   ]
  },
  {
   "cell_type": "code",
   "execution_count": 113,
   "id": "89c300f2",
   "metadata": {},
   "outputs": [
    {
     "data": {
      "text/plain": [
       "True"
      ]
     },
     "execution_count": 113,
     "metadata": {},
     "output_type": "execute_result"
    }
   ],
   "source": [
    "person[\"isMale\"]"
   ]
  },
  {
   "cell_type": "code",
   "execution_count": 114,
   "id": "54123050",
   "metadata": {},
   "outputs": [
    {
     "data": {
      "text/plain": [
       "{'name': 'Ben', 'age': 82, 'height': 154, 'isMale': True}"
      ]
     },
     "execution_count": 114,
     "metadata": {},
     "output_type": "execute_result"
    }
   ],
   "source": [
    "person[\"name\"] = \"Ben\"\n",
    "person"
   ]
  },
  {
   "cell_type": "code",
   "execution_count": 115,
   "id": "df038952",
   "metadata": {},
   "outputs": [
    {
     "data": {
      "text/plain": [
       "{'name': 'Ben',\n",
       " 'age': 82,\n",
       " 'height': 154,\n",
       " 'isMale': True,\n",
       " 'profession': 'Entrepreneur'}"
      ]
     },
     "execution_count": 115,
     "metadata": {},
     "output_type": "execute_result"
    }
   ],
   "source": [
    "person[\"profession\"] = \"Entrepreneur\"\n",
    "person"
   ]
  },
  {
   "cell_type": "code",
   "execution_count": 116,
   "id": "7437097c",
   "metadata": {},
   "outputs": [
    {
     "data": {
      "text/plain": [
       "{'name': 'Ben',\n",
       " 'age': 82,\n",
       " 'height': 154,\n",
       " 'isMale': True,\n",
       " 'profession': 'Entrepreneur',\n",
       " 'hobbies': ['Football', 'Video Games', 'Chess', 'Movies']}"
      ]
     },
     "execution_count": 116,
     "metadata": {},
     "output_type": "execute_result"
    }
   ],
   "source": [
    "person[\"hobbies\"] = [\"Football\", \"Video Games\", \"Chess\", \"Movies\"]\n",
    "person"
   ]
  },
  {
   "cell_type": "code",
   "execution_count": 117,
   "id": "ab47e1bc",
   "metadata": {},
   "outputs": [
    {
     "data": {
      "text/plain": [
       "{'name': 'Ben',\n",
       " 'age': 82,\n",
       " 'height': 154,\n",
       " 'isMale': True,\n",
       " 'profession': 'Entrepreneur',\n",
       " 'hobbies': ['Football', 'Video Games', 'Chess', 'Movies'],\n",
       " 'address': {'city': 'Kumasi', 'country': 'Ghana'}}"
      ]
     },
     "execution_count": 117,
     "metadata": {},
     "output_type": "execute_result"
    }
   ],
   "source": [
    "person[\"address\"] = {\n",
    "    \"city\": \"Kumasi\",\n",
    "    \"country\": \"Ghana\"\n",
    "}\n",
    "person"
   ]
  },
  {
   "cell_type": "code",
   "execution_count": 118,
   "id": "1aacb6bf",
   "metadata": {},
   "outputs": [
    {
     "data": {
      "text/plain": [
       "{'name': 'Ben',\n",
       " 'age': 82,\n",
       " 'height': 154,\n",
       " 'isMale': True,\n",
       " 'profession': 'Entrepreneur',\n",
       " 'hobbies': ['Football', 'Video Games', 'Chess', 'Movies'],\n",
       " 'address': {'city': 'Kumasi', 'country': 'Ghana'},\n",
       " 'coordinates': (-1.423, 50.121)}"
      ]
     },
     "execution_count": 118,
     "metadata": {},
     "output_type": "execute_result"
    }
   ],
   "source": [
    "person[\"coordinates\"] = (-1.423, 50.121)\n",
    "person"
   ]
  },
  {
   "cell_type": "code",
   "execution_count": 129,
   "id": "6a846289",
   "metadata": {},
   "outputs": [
    {
     "name": "stdout",
     "output_type": "stream",
     "text": [
      "What is your age?50\n"
     ]
    },
    {
     "data": {
      "text/plain": [
       "\"You'll be 51 next year\""
      ]
     },
     "execution_count": 129,
     "metadata": {},
     "output_type": "execute_result"
    }
   ],
   "source": [
    "# User inputs\n",
    "age = int(input(\"What is your age?\"))\n",
    "statement = f\"You'll be {age + 1} next year\"\n",
    "statement"
   ]
  },
  {
   "cell_type": "code",
   "execution_count": 132,
   "id": "7ab5ae77",
   "metadata": {},
   "outputs": [
    {
     "ename": "KeyboardInterrupt",
     "evalue": "Interrupted by user",
     "output_type": "error",
     "traceback": [
      "\u001b[1;31m---------------------------------------------------------------------------\u001b[0m",
      "\u001b[1;31mKeyboardInterrupt\u001b[0m                         Traceback (most recent call last)",
      "Cell \u001b[1;32mIn[132], line 1\u001b[0m\n\u001b[1;32m----> 1\u001b[0m age \u001b[38;5;241m=\u001b[39m \u001b[38;5;28mint\u001b[39m(\u001b[38;5;28;43minput\u001b[39;49m\u001b[43m(\u001b[49m\u001b[38;5;124;43m\"\u001b[39;49m\u001b[38;5;124;43mEnter Age\u001b[39;49m\u001b[38;5;124;43m\"\u001b[39;49m\u001b[43m)\u001b[49m)\n\u001b[0;32m      3\u001b[0m \u001b[38;5;28;01mif\u001b[39;00m age \u001b[38;5;241m>\u001b[39m\u001b[38;5;241m=\u001b[39m \u001b[38;5;241m21\u001b[39m:\n\u001b[0;32m      4\u001b[0m     \u001b[38;5;28mprint\u001b[39m(\u001b[38;5;124m\"\u001b[39m\u001b[38;5;124mYou can allowed to take alcohol\u001b[39m\u001b[38;5;124m\"\u001b[39m)\n",
      "File \u001b[1;32m~\\AppData\\Local\\Programs\\Python\\Python311\\Lib\\site-packages\\ipykernel\\kernelbase.py:1191\u001b[0m, in \u001b[0;36mKernel.raw_input\u001b[1;34m(self, prompt)\u001b[0m\n\u001b[0;32m   1189\u001b[0m     msg \u001b[38;5;241m=\u001b[39m \u001b[38;5;124m\"\u001b[39m\u001b[38;5;124mraw_input was called, but this frontend does not support input requests.\u001b[39m\u001b[38;5;124m\"\u001b[39m\n\u001b[0;32m   1190\u001b[0m     \u001b[38;5;28;01mraise\u001b[39;00m StdinNotImplementedError(msg)\n\u001b[1;32m-> 1191\u001b[0m \u001b[38;5;28;01mreturn\u001b[39;00m \u001b[38;5;28;43mself\u001b[39;49m\u001b[38;5;241;43m.\u001b[39;49m\u001b[43m_input_request\u001b[49m\u001b[43m(\u001b[49m\n\u001b[0;32m   1192\u001b[0m \u001b[43m    \u001b[49m\u001b[38;5;28;43mstr\u001b[39;49m\u001b[43m(\u001b[49m\u001b[43mprompt\u001b[49m\u001b[43m)\u001b[49m\u001b[43m,\u001b[49m\n\u001b[0;32m   1193\u001b[0m \u001b[43m    \u001b[49m\u001b[38;5;28;43mself\u001b[39;49m\u001b[38;5;241;43m.\u001b[39;49m\u001b[43m_parent_ident\u001b[49m\u001b[43m[\u001b[49m\u001b[38;5;124;43m\"\u001b[39;49m\u001b[38;5;124;43mshell\u001b[39;49m\u001b[38;5;124;43m\"\u001b[39;49m\u001b[43m]\u001b[49m\u001b[43m,\u001b[49m\n\u001b[0;32m   1194\u001b[0m \u001b[43m    \u001b[49m\u001b[38;5;28;43mself\u001b[39;49m\u001b[38;5;241;43m.\u001b[39;49m\u001b[43mget_parent\u001b[49m\u001b[43m(\u001b[49m\u001b[38;5;124;43m\"\u001b[39;49m\u001b[38;5;124;43mshell\u001b[39;49m\u001b[38;5;124;43m\"\u001b[39;49m\u001b[43m)\u001b[49m\u001b[43m,\u001b[49m\n\u001b[0;32m   1195\u001b[0m \u001b[43m    \u001b[49m\u001b[43mpassword\u001b[49m\u001b[38;5;241;43m=\u001b[39;49m\u001b[38;5;28;43;01mFalse\u001b[39;49;00m\u001b[43m,\u001b[49m\n\u001b[0;32m   1196\u001b[0m \u001b[43m\u001b[49m\u001b[43m)\u001b[49m\n",
      "File \u001b[1;32m~\\AppData\\Local\\Programs\\Python\\Python311\\Lib\\site-packages\\ipykernel\\kernelbase.py:1234\u001b[0m, in \u001b[0;36mKernel._input_request\u001b[1;34m(self, prompt, ident, parent, password)\u001b[0m\n\u001b[0;32m   1231\u001b[0m \u001b[38;5;28;01mexcept\u001b[39;00m \u001b[38;5;167;01mKeyboardInterrupt\u001b[39;00m:\n\u001b[0;32m   1232\u001b[0m     \u001b[38;5;66;03m# re-raise KeyboardInterrupt, to truncate traceback\u001b[39;00m\n\u001b[0;32m   1233\u001b[0m     msg \u001b[38;5;241m=\u001b[39m \u001b[38;5;124m\"\u001b[39m\u001b[38;5;124mInterrupted by user\u001b[39m\u001b[38;5;124m\"\u001b[39m\n\u001b[1;32m-> 1234\u001b[0m     \u001b[38;5;28;01mraise\u001b[39;00m \u001b[38;5;167;01mKeyboardInterrupt\u001b[39;00m(msg) \u001b[38;5;28;01mfrom\u001b[39;00m \u001b[38;5;28;01mNone\u001b[39;00m\n\u001b[0;32m   1235\u001b[0m \u001b[38;5;28;01mexcept\u001b[39;00m \u001b[38;5;167;01mException\u001b[39;00m:\n\u001b[0;32m   1236\u001b[0m     \u001b[38;5;28mself\u001b[39m\u001b[38;5;241m.\u001b[39mlog\u001b[38;5;241m.\u001b[39mwarning(\u001b[38;5;124m\"\u001b[39m\u001b[38;5;124mInvalid Message:\u001b[39m\u001b[38;5;124m\"\u001b[39m, exc_info\u001b[38;5;241m=\u001b[39m\u001b[38;5;28;01mTrue\u001b[39;00m)\n",
      "\u001b[1;31mKeyboardInterrupt\u001b[0m: Interrupted by user"
     ]
    }
   ],
   "source": [
    "age = int(input(\"Enter Age\"))\n",
    "\n",
    "if age >= 21:\n",
    "    print(\"You can allowed to take alcohol\")\n",
    "elif age >= 18:\n",
    "    print(\"You can vote\")\n",
    "elif age >= 16:\n",
    "    print(\"You can drive\")\n",
    "else:\n",
    "    print(\"You are a minor\")"
   ]
  },
  {
   "cell_type": "code",
   "execution_count": 138,
   "id": "eedc1083",
   "metadata": {},
   "outputs": [
    {
     "name": "stdout",
     "output_type": "stream",
     "text": [
      "0\n",
      "2\n",
      "4\n",
      "6\n",
      "8\n",
      "10\n"
     ]
    }
   ],
   "source": [
    "# looping\n",
    "# while loop\n",
    "number = 0\n",
    "while number <= 10:\n",
    "    print(number)\n",
    "    number += 2"
   ]
  },
  {
   "cell_type": "code",
   "execution_count": 134,
   "id": "8884a4b7",
   "metadata": {},
   "outputs": [
    {
     "data": {
      "text/plain": [
       "2"
      ]
     },
     "execution_count": 134,
     "metadata": {},
     "output_type": "execute_result"
    }
   ],
   "source": [
    "first = 1\n",
    "first = first + 1\n",
    "first"
   ]
  },
  {
   "cell_type": "code",
   "execution_count": 135,
   "id": "ae63bc36",
   "metadata": {},
   "outputs": [
    {
     "data": {
      "text/plain": [
       "3"
      ]
     },
     "execution_count": 135,
     "metadata": {},
     "output_type": "execute_result"
    }
   ],
   "source": [
    "first = first + 1\n",
    "first"
   ]
  },
  {
   "cell_type": "code",
   "execution_count": 136,
   "id": "e1486f07",
   "metadata": {},
   "outputs": [
    {
     "data": {
      "text/plain": [
       "4"
      ]
     },
     "execution_count": 136,
     "metadata": {},
     "output_type": "execute_result"
    }
   ],
   "source": [
    "first += 1\n",
    "first"
   ]
  },
  {
   "cell_type": "code",
   "execution_count": 137,
   "id": "d767b3ac",
   "metadata": {},
   "outputs": [
    {
     "data": {
      "text/plain": [
       "6"
      ]
     },
     "execution_count": 137,
     "metadata": {},
     "output_type": "execute_result"
    }
   ],
   "source": [
    "first += 2\n",
    "first"
   ]
  },
  {
   "cell_type": "code",
   "execution_count": 141,
   "id": "ff7eb570",
   "metadata": {},
   "outputs": [
    {
     "name": "stdout",
     "output_type": "stream",
     "text": [
      "Enter multiplier12\n",
      "12 * 0 = 0\n",
      "12 * 1 = 12\n",
      "12 * 2 = 24\n",
      "12 * 3 = 36\n",
      "12 * 4 = 48\n",
      "12 * 5 = 60\n",
      "12 * 6 = 72\n",
      "12 * 7 = 84\n",
      "12 * 8 = 96\n",
      "12 * 9 = 108\n",
      "12 * 10 = 120\n",
      "12 * 11 = 132\n",
      "12 * 12 = 144\n"
     ]
    }
   ],
   "source": [
    "number = 0\n",
    "multiplier = int(input(\"Enter multiplier\"))\n",
    "\n",
    "while number <= 12:\n",
    "    print(f\"{multiplier} * {number} = {multiplier * number}\")\n",
    "    number += 1"
   ]
  },
  {
   "cell_type": "code",
   "execution_count": 145,
   "id": "151934f2",
   "metadata": {},
   "outputs": [
    {
     "name": "stdout",
     "output_type": "stream",
     "text": [
      "Enter multiplier20\n",
      "20 * 0 = 0\n",
      "20 * 1 = 20\n",
      "20 * 2 = 40\n",
      "20 * 3 = 60\n",
      "20 * 4 = 80\n",
      "20 * 5 = 100\n",
      "20 * 6 = 120\n",
      "20 * 7 = 140\n",
      "20 * 8 = 160\n",
      "20 * 9 = 180\n",
      "20 * 10 = 200\n",
      "20 * 11 = 220\n",
      "20 * 12 = 240\n",
      "20 * 13 = 260\n",
      "20 * 14 = 280\n",
      "20 * 15 = 300\n",
      "20 * 16 = 320\n",
      "20 * 17 = 340\n",
      "20 * 18 = 360\n",
      "20 * 19 = 380\n"
     ]
    }
   ],
   "source": [
    "number = 0\n",
    "multiplier = int(input(\"Enter multiplier\"))\n",
    "# exit_number = int(input(\"Enter Exit Number\"))\n",
    "\n",
    "while number <= 50:\n",
    "    print(f\"{multiplier} * {number} = {multiplier * number}\")\n",
    "    number += 1\n",
    "    if(number == 20):\n",
    "        break"
   ]
  },
  {
   "cell_type": "code",
   "execution_count": 146,
   "id": "39273fce",
   "metadata": {},
   "outputs": [
    {
     "name": "stdout",
     "output_type": "stream",
     "text": [
      "Enter multiplier13\n"
     ]
    },
    {
     "data": {
      "text/plain": [
       "[0, 13, 26, 39, 52, 65, 78, 91, 104, 117, 130, 143, 156]"
      ]
     },
     "execution_count": 146,
     "metadata": {},
     "output_type": "execute_result"
    }
   ],
   "source": [
    "number = 0\n",
    "multiplier = int(input(\"Enter multiplier\"))\n",
    "prods = []\n",
    "\n",
    "while number <= 12:\n",
    "    prod = multiplier * number\n",
    "    prods.append(prod)\n",
    "    # print(f\"{multiplier} * {number} = {multiplier * number}\")\n",
    "    number += 1\n",
    "\n",
    "prods"
   ]
  },
  {
   "cell_type": "code",
   "execution_count": 147,
   "id": "27fa7310",
   "metadata": {},
   "outputs": [
    {
     "data": {
      "text/plain": [
       "1014"
      ]
     },
     "execution_count": 147,
     "metadata": {},
     "output_type": "execute_result"
    }
   ],
   "source": [
    "sum(prods)"
   ]
  },
  {
   "cell_type": "code",
   "execution_count": 149,
   "id": "6b41995a",
   "metadata": {},
   "outputs": [
    {
     "data": {
      "text/plain": [
       "55"
      ]
     },
     "execution_count": 149,
     "metadata": {},
     "output_type": "execute_result"
    }
   ],
   "source": [
    "# list comprehension\n",
    "sum([x for x in range(0, 11)])"
   ]
  },
  {
   "cell_type": "code",
   "execution_count": 150,
   "id": "689a4a07",
   "metadata": {},
   "outputs": [
    {
     "data": {
      "text/plain": [
       "1014"
      ]
     },
     "execution_count": 150,
     "metadata": {},
     "output_type": "execute_result"
    }
   ],
   "source": [
    "sum([x * 13 for x in range(0, 13)])"
   ]
  },
  {
   "cell_type": "code",
   "execution_count": 5,
   "id": "f90ba019",
   "metadata": {},
   "outputs": [],
   "source": [
    "# Functions\n",
    "# series of related codes \n",
    "# reusable\n",
    "\n",
    "def greet():\n",
    "    print(\"Welcome!\")"
   ]
  },
  {
   "cell_type": "code",
   "execution_count": 6,
   "id": "d71c0d34",
   "metadata": {},
   "outputs": [
    {
     "name": "stdout",
     "output_type": "stream",
     "text": [
      "Welcome!\n"
     ]
    }
   ],
   "source": [
    "# Calling the function\n",
    "# function_name(arguments)\n",
    "\n",
    "greet()"
   ]
  },
  {
   "cell_type": "code",
   "execution_count": 7,
   "id": "f0cfc2ec",
   "metadata": {},
   "outputs": [
    {
     "name": "stdout",
     "output_type": "stream",
     "text": [
      "Welcome!\n"
     ]
    }
   ],
   "source": [
    "greet()"
   ]
  },
  {
   "cell_type": "code",
   "execution_count": 8,
   "id": "1b489b52",
   "metadata": {},
   "outputs": [],
   "source": [
    "def greet_user(username):\n",
    "    print(f\"Welcome {username}\")"
   ]
  },
  {
   "cell_type": "code",
   "execution_count": 9,
   "id": "2d8b128a",
   "metadata": {},
   "outputs": [
    {
     "name": "stdout",
     "output_type": "stream",
     "text": [
      "Welcome Ben\n"
     ]
    }
   ],
   "source": [
    "greet_user(\"Ben\")"
   ]
  },
  {
   "cell_type": "code",
   "execution_count": 10,
   "id": "baae1a30",
   "metadata": {},
   "outputs": [
    {
     "name": "stdout",
     "output_type": "stream",
     "text": [
      "Welcome Jeff\n"
     ]
    }
   ],
   "source": [
    "greet_user(\"Jeff\")"
   ]
  },
  {
   "cell_type": "code",
   "execution_count": 11,
   "id": "ed5d4953",
   "metadata": {},
   "outputs": [],
   "source": [
    "def power(a, b):\n",
    "    print(a ** b)"
   ]
  },
  {
   "cell_type": "code",
   "execution_count": 12,
   "id": "72992308",
   "metadata": {},
   "outputs": [
    {
     "name": "stdout",
     "output_type": "stream",
     "text": [
      "1024\n"
     ]
    }
   ],
   "source": [
    "power(2, 10) # 2 ** 10"
   ]
  },
  {
   "cell_type": "code",
   "execution_count": 13,
   "id": "f64c089f",
   "metadata": {},
   "outputs": [
    {
     "name": "stdout",
     "output_type": "stream",
     "text": [
      "243\n"
     ]
    }
   ],
   "source": [
    "power(3, 5)"
   ]
  },
  {
   "cell_type": "code",
   "execution_count": 14,
   "id": "faea6f74",
   "metadata": {},
   "outputs": [],
   "source": [
    "def future_value(r, pv, t):\n",
    "    print(pv * (1 + r) ** t)"
   ]
  },
  {
   "cell_type": "code",
   "execution_count": 15,
   "id": "1aaf1a8e",
   "metadata": {},
   "outputs": [
    {
     "name": "stdout",
     "output_type": "stream",
     "text": [
      "115.76250000000002\n"
     ]
    }
   ],
   "source": [
    "future_value(0.05, 100, 3)"
   ]
  },
  {
   "cell_type": "code",
   "execution_count": 16,
   "id": "5be581c1",
   "metadata": {},
   "outputs": [
    {
     "name": "stdout",
     "output_type": "stream",
     "text": [
      "8052.550000000003\n"
     ]
    }
   ],
   "source": [
    "future_value(0.10, 5000, 5)"
   ]
  },
  {
   "cell_type": "code",
   "execution_count": 19,
   "id": "55cb8fd8",
   "metadata": {},
   "outputs": [],
   "source": [
    "def power(a, b=2):\n",
    "    print(a ** b)"
   ]
  },
  {
   "cell_type": "code",
   "execution_count": 20,
   "id": "de348168",
   "metadata": {},
   "outputs": [
    {
     "name": "stdout",
     "output_type": "stream",
     "text": [
      "100\n"
     ]
    }
   ],
   "source": [
    "power(10)"
   ]
  },
  {
   "cell_type": "code",
   "execution_count": 21,
   "id": "4aafcf9b",
   "metadata": {},
   "outputs": [
    {
     "name": "stdout",
     "output_type": "stream",
     "text": [
      "1000\n"
     ]
    }
   ],
   "source": [
    "power(10, 3)"
   ]
  },
  {
   "cell_type": "code",
   "execution_count": 22,
   "id": "f996fae9",
   "metadata": {},
   "outputs": [],
   "source": [
    "# return \n",
    "def cube(n):\n",
    "    return n ** 3"
   ]
  },
  {
   "cell_type": "code",
   "execution_count": 23,
   "id": "6ed6b15f",
   "metadata": {},
   "outputs": [
    {
     "name": "stdout",
     "output_type": "stream",
     "text": [
      "3375\n"
     ]
    }
   ],
   "source": [
    "print(cube(15))"
   ]
  },
  {
   "cell_type": "code",
   "execution_count": 24,
   "id": "bafae8e4",
   "metadata": {},
   "outputs": [
    {
     "data": {
      "text/plain": [
       "125"
      ]
     },
     "execution_count": 24,
     "metadata": {},
     "output_type": "execute_result"
    }
   ],
   "source": [
    "cube(5)"
   ]
  },
  {
   "cell_type": "code",
   "execution_count": 25,
   "id": "fb863345",
   "metadata": {},
   "outputs": [],
   "source": [
    "stats = range(0, 201)"
   ]
  },
  {
   "cell_type": "code",
   "execution_count": 26,
   "id": "0269dbea",
   "metadata": {},
   "outputs": [],
   "source": [
    "def list_range(values):\n",
    "    return max(values), min(values)"
   ]
  },
  {
   "cell_type": "code",
   "execution_count": 27,
   "id": "49b7813c",
   "metadata": {},
   "outputs": [
    {
     "data": {
      "text/plain": [
       "(99, 2)"
      ]
     },
     "execution_count": 27,
     "metadata": {},
     "output_type": "execute_result"
    }
   ],
   "source": [
    "list_range([2, 4, 56, 28, 23, 99, 45, 73])"
   ]
  },
  {
   "cell_type": "code",
   "execution_count": 28,
   "id": "679bc7fc",
   "metadata": {},
   "outputs": [
    {
     "data": {
      "text/plain": [
       "(200, 0)"
      ]
     },
     "execution_count": 28,
     "metadata": {},
     "output_type": "execute_result"
    }
   ],
   "source": [
    "list_range(stats)"
   ]
  },
  {
   "cell_type": "code",
   "execution_count": 29,
   "id": "82f3db68",
   "metadata": {},
   "outputs": [],
   "source": [
    "# recursive function\n",
    "def factorial(n):\n",
    "    if n <= 1:\n",
    "        return 1\n",
    "    else:\n",
    "        return n * factorial(n-1)"
   ]
  },
  {
   "cell_type": "code",
   "execution_count": 36,
   "id": "f21d80d0",
   "metadata": {},
   "outputs": [
    {
     "data": {
      "text/plain": [
       "120"
      ]
     },
     "execution_count": 36,
     "metadata": {},
     "output_type": "execute_result"
    }
   ],
   "source": [
    "factorial(5)"
   ]
  },
  {
   "cell_type": "code",
   "execution_count": 33,
   "id": "4a650dde",
   "metadata": {},
   "outputs": [
    {
     "data": {
      "text/plain": [
       "120"
      ]
     },
     "execution_count": 33,
     "metadata": {},
     "output_type": "execute_result"
    }
   ],
   "source": [
    "5 * 4 * 3 * 2 * 1"
   ]
  },
  {
   "cell_type": "code",
   "execution_count": 37,
   "id": "55fc7438",
   "metadata": {},
   "outputs": [],
   "source": [
    "# Anonymous function\n",
    "# Function with no name\n",
    "# lambda function\n",
    "square = lambda x: x ** 2"
   ]
  },
  {
   "cell_type": "code",
   "execution_count": 38,
   "id": "947598c2",
   "metadata": {},
   "outputs": [
    {
     "data": {
      "text/plain": [
       "4"
      ]
     },
     "execution_count": 38,
     "metadata": {},
     "output_type": "execute_result"
    }
   ],
   "source": [
    "square(2)"
   ]
  },
  {
   "cell_type": "code",
   "execution_count": 39,
   "id": "73216534",
   "metadata": {},
   "outputs": [
    {
     "data": {
      "text/plain": [
       "400"
      ]
     },
     "execution_count": 39,
     "metadata": {},
     "output_type": "execute_result"
    }
   ],
   "source": [
    "square(20)"
   ]
  },
  {
   "cell_type": "code",
   "execution_count": null,
   "id": "5a5bbccb",
   "metadata": {},
   "outputs": [],
   "source": [
    "def square(x):\n",
    "    return x ** 2"
   ]
  },
  {
   "cell_type": "code",
   "execution_count": 43,
   "id": "ad42860f",
   "metadata": {},
   "outputs": [],
   "source": [
    "# sets\n",
    "numbers = set() # {}"
   ]
  },
  {
   "cell_type": "code",
   "execution_count": 44,
   "id": "e823d7d2",
   "metadata": {},
   "outputs": [
    {
     "data": {
      "text/plain": [
       "set()"
      ]
     },
     "execution_count": 44,
     "metadata": {},
     "output_type": "execute_result"
    }
   ],
   "source": [
    "numbers"
   ]
  },
  {
   "cell_type": "code",
   "execution_count": 53,
   "id": "4134affc",
   "metadata": {},
   "outputs": [
    {
     "data": {
      "text/plain": [
       "{2, 3, 4, 5, 6, 7}"
      ]
     },
     "execution_count": 53,
     "metadata": {},
     "output_type": "execute_result"
    }
   ],
   "source": [
    "nums = {2, 3, 4, 5, 6, 7,  4, 3}\n",
    "nums"
   ]
  },
  {
   "cell_type": "code",
   "execution_count": 46,
   "id": "20edeb22",
   "metadata": {},
   "outputs": [
    {
     "data": {
      "text/plain": [
       "set"
      ]
     },
     "execution_count": 46,
     "metadata": {},
     "output_type": "execute_result"
    }
   ],
   "source": [
    "type(nums)"
   ]
  },
  {
   "cell_type": "code",
   "execution_count": 47,
   "id": "50e33f9e",
   "metadata": {},
   "outputs": [],
   "source": [
    "numbers.add(2)"
   ]
  },
  {
   "cell_type": "code",
   "execution_count": 48,
   "id": "4ebe2cd9",
   "metadata": {},
   "outputs": [
    {
     "data": {
      "text/plain": [
       "{2}"
      ]
     },
     "execution_count": 48,
     "metadata": {},
     "output_type": "execute_result"
    }
   ],
   "source": [
    "numbers"
   ]
  },
  {
   "cell_type": "code",
   "execution_count": 50,
   "id": "dadaa449",
   "metadata": {},
   "outputs": [],
   "source": [
    "cars = list()"
   ]
  },
  {
   "cell_type": "code",
   "execution_count": 51,
   "id": "d593dfed",
   "metadata": {},
   "outputs": [],
   "source": [
    "cars.append(2)"
   ]
  },
  {
   "cell_type": "code",
   "execution_count": 52,
   "id": "c7753197",
   "metadata": {},
   "outputs": [
    {
     "data": {
      "text/plain": [
       "[2]"
      ]
     },
     "execution_count": 52,
     "metadata": {},
     "output_type": "execute_result"
    }
   ],
   "source": [
    "cars"
   ]
  },
  {
   "cell_type": "code",
   "execution_count": 54,
   "id": "5cb13544",
   "metadata": {},
   "outputs": [
    {
     "data": {
      "text/plain": [
       "{2, 3, 4, 5, 6, 7}"
      ]
     },
     "execution_count": 54,
     "metadata": {},
     "output_type": "execute_result"
    }
   ],
   "source": [
    "nums"
   ]
  },
  {
   "cell_type": "code",
   "execution_count": 55,
   "id": "ef3a557d",
   "metadata": {},
   "outputs": [
    {
     "data": {
      "text/plain": [
       "{2}"
      ]
     },
     "execution_count": 55,
     "metadata": {},
     "output_type": "execute_result"
    }
   ],
   "source": [
    "numbers"
   ]
  },
  {
   "cell_type": "code",
   "execution_count": 56,
   "id": "4b81e881",
   "metadata": {},
   "outputs": [],
   "source": [
    "numbers.add(6)"
   ]
  },
  {
   "cell_type": "code",
   "execution_count": 57,
   "id": "a4746284",
   "metadata": {},
   "outputs": [
    {
     "data": {
      "text/plain": [
       "{2, 6}"
      ]
     },
     "execution_count": 57,
     "metadata": {},
     "output_type": "execute_result"
    }
   ],
   "source": [
    "numbers"
   ]
  },
  {
   "cell_type": "code",
   "execution_count": 58,
   "id": "c7da8cb2",
   "metadata": {},
   "outputs": [
    {
     "data": {
      "text/plain": [
       "{2, 3, 4, 5, 6, 7}"
      ]
     },
     "execution_count": 58,
     "metadata": {},
     "output_type": "execute_result"
    }
   ],
   "source": [
    "nums"
   ]
  },
  {
   "cell_type": "code",
   "execution_count": 59,
   "id": "01d9cdee",
   "metadata": {},
   "outputs": [],
   "source": [
    "nums.remove(2)"
   ]
  },
  {
   "cell_type": "code",
   "execution_count": 60,
   "id": "89c107cd",
   "metadata": {},
   "outputs": [
    {
     "data": {
      "text/plain": [
       "{3, 4, 5, 6, 7}"
      ]
     },
     "execution_count": 60,
     "metadata": {},
     "output_type": "execute_result"
    }
   ],
   "source": [
    "nums"
   ]
  },
  {
   "cell_type": "code",
   "execution_count": 61,
   "id": "31559898",
   "metadata": {},
   "outputs": [
    {
     "data": {
      "text/plain": [
       "{2, 3, 4, 5, 6, 7}"
      ]
     },
     "execution_count": 61,
     "metadata": {},
     "output_type": "execute_result"
    }
   ],
   "source": [
    "# Union\n",
    "# Intersection\n",
    "\n",
    "numbers | nums"
   ]
  },
  {
   "cell_type": "code",
   "execution_count": 62,
   "id": "7d8992c1",
   "metadata": {},
   "outputs": [
    {
     "data": {
      "text/plain": [
       "{2}"
      ]
     },
     "execution_count": 62,
     "metadata": {},
     "output_type": "execute_result"
    }
   ],
   "source": [
    "numbers - nums"
   ]
  },
  {
   "cell_type": "code",
   "execution_count": 63,
   "id": "d3591edb",
   "metadata": {},
   "outputs": [
    {
     "data": {
      "text/plain": [
       "{3, 4, 5, 7}"
      ]
     },
     "execution_count": 63,
     "metadata": {},
     "output_type": "execute_result"
    }
   ],
   "source": [
    "nums - numbers"
   ]
  },
  {
   "cell_type": "code",
   "execution_count": 64,
   "id": "6ee5717e",
   "metadata": {},
   "outputs": [
    {
     "data": {
      "text/plain": [
       "{6}"
      ]
     },
     "execution_count": 64,
     "metadata": {},
     "output_type": "execute_result"
    }
   ],
   "source": [
    "nums.intersection(numbers)"
   ]
  },
  {
   "cell_type": "code",
   "execution_count": 65,
   "id": "4b5b7239",
   "metadata": {},
   "outputs": [
    {
     "data": {
      "text/plain": [
       "{2, 3, 4, 5, 6, 7}"
      ]
     },
     "execution_count": 65,
     "metadata": {},
     "output_type": "execute_result"
    }
   ],
   "source": [
    "nums.union(numbers)"
   ]
  },
  {
   "cell_type": "code",
   "execution_count": 66,
   "id": "651aaa4b",
   "metadata": {},
   "outputs": [
    {
     "data": {
      "text/plain": [
       "False"
      ]
     },
     "execution_count": 66,
     "metadata": {},
     "output_type": "execute_result"
    }
   ],
   "source": [
    "nums.isdisjoint(numbers)"
   ]
  },
  {
   "cell_type": "code",
   "execution_count": 67,
   "id": "716d0e36",
   "metadata": {},
   "outputs": [
    {
     "data": {
      "text/plain": [
       "[1, 2, 3, 4, 2, 3, 4, 5]"
      ]
     },
     "execution_count": 67,
     "metadata": {},
     "output_type": "execute_result"
    }
   ],
   "source": [
    "a = [1, 2, 3, 4]\n",
    "b = [2, 3, 4, 5]\n",
    "a = a + b"
   ]
  },
  {
   "cell_type": "code",
   "execution_count": 71,
   "id": "dff4e696",
   "metadata": {},
   "outputs": [
    {
     "data": {
      "text/plain": [
       "['Accra', 'Kumasi', 'Tema']"
      ]
     },
     "execution_count": 71,
     "metadata": {},
     "output_type": "execute_result"
    }
   ],
   "source": [
    "old_cities = [\"Accra\", \"Kumasi\", \"Tema\"]\n",
    "new_cities = [\"Tamale\", \"Sunyani\", \"Bolgatanga\"]\n",
    "# old_cities = old_cities + new_cities\n",
    "old_cities"
   ]
  },
  {
   "cell_type": "code",
   "execution_count": 72,
   "id": "a078419a",
   "metadata": {},
   "outputs": [],
   "source": [
    "old_cities.extend(new_cities)"
   ]
  },
  {
   "cell_type": "code",
   "execution_count": 73,
   "id": "4e1c7a7b",
   "metadata": {},
   "outputs": [
    {
     "data": {
      "text/plain": [
       "['Accra', 'Kumasi', 'Tema', 'Tamale', 'Sunyani', 'Bolgatanga']"
      ]
     },
     "execution_count": 73,
     "metadata": {},
     "output_type": "execute_result"
    }
   ],
   "source": [
    "old_cities"
   ]
  },
  {
   "cell_type": "code",
   "execution_count": 74,
   "id": "ee95ad0c",
   "metadata": {},
   "outputs": [
    {
     "data": {
      "text/plain": [
       "[1, 2, 3, 4, 2, 3, 4, 5]"
      ]
     },
     "execution_count": 74,
     "metadata": {},
     "output_type": "execute_result"
    }
   ],
   "source": [
    "a.extend(b)\n",
    "a"
   ]
  },
  {
   "cell_type": "code",
   "execution_count": 75,
   "id": "f84e09bd",
   "metadata": {},
   "outputs": [
    {
     "data": {
      "text/plain": [
       "[1, 2, 3, 4, 2, 3, 4, 5]"
      ]
     },
     "execution_count": 75,
     "metadata": {},
     "output_type": "execute_result"
    }
   ],
   "source": [
    "a"
   ]
  },
  {
   "cell_type": "code",
   "execution_count": 76,
   "id": "2f8f490d",
   "metadata": {},
   "outputs": [
    {
     "data": {
      "text/plain": [
       "[1, 2, 3, 4, 2, 3, 4, 5, 2, 3, 4, 5]"
      ]
     },
     "execution_count": 76,
     "metadata": {},
     "output_type": "execute_result"
    }
   ],
   "source": [
    "a + b"
   ]
  },
  {
   "cell_type": "code",
   "execution_count": 83,
   "id": "7fdf677f",
   "metadata": {},
   "outputs": [
    {
     "data": {
      "text/plain": [
       "5050"
      ]
     },
     "execution_count": 83,
     "metadata": {},
     "output_type": "execute_result"
    }
   ],
   "source": [
    "# list comprehension\n",
    "ages = range(0, 101)\n",
    "\n",
    "sum(ages)"
   ]
  },
  {
   "cell_type": "code",
   "execution_count": 79,
   "id": "888a94d8",
   "metadata": {},
   "outputs": [],
   "source": [
    "nums = range(0, 101)\n",
    "# find the sum of the numbers from 51 to 100"
   ]
  },
  {
   "cell_type": "code",
   "execution_count": 80,
   "id": "75fa107f",
   "metadata": {},
   "outputs": [
    {
     "data": {
      "text/plain": [
       "3775"
      ]
     },
     "execution_count": 80,
     "metadata": {},
     "output_type": "execute_result"
    }
   ],
   "source": [
    "sum(range(51, 101))"
   ]
  },
  {
   "cell_type": "code",
   "execution_count": 82,
   "id": "3be84593",
   "metadata": {},
   "outputs": [
    {
     "data": {
      "text/plain": [
       "3775"
      ]
     },
     "execution_count": 82,
     "metadata": {},
     "output_type": "execute_result"
    }
   ],
   "source": [
    "total = []\n",
    "\n",
    "for n in nums:\n",
    "    if n > 50:\n",
    "        total.append(n)\n",
    "        \n",
    "sum(total)"
   ]
  },
  {
   "cell_type": "code",
   "execution_count": 92,
   "id": "242e1c65",
   "metadata": {},
   "outputs": [
    {
     "data": {
      "text/plain": [
       "[0,\n",
       " 5,\n",
       " 10,\n",
       " 15,\n",
       " 20,\n",
       " 25,\n",
       " 30,\n",
       " 35,\n",
       " 40,\n",
       " 45,\n",
       " 50,\n",
       " 55,\n",
       " 60,\n",
       " 65,\n",
       " 70,\n",
       " 75,\n",
       " 80,\n",
       " 85,\n",
       " 90,\n",
       " 95,\n",
       " 100]"
      ]
     },
     "execution_count": 92,
     "metadata": {},
     "output_type": "execute_result"
    }
   ],
   "source": [
    "\n",
    "\n",
    "[n for n in nums if n % 5 == 0]"
   ]
  },
  {
   "cell_type": "code",
   "execution_count": 94,
   "id": "f897f135",
   "metadata": {},
   "outputs": [
    {
     "name": "stdout",
     "output_type": "stream",
     "text": [
      "0 nissan\n",
      "1 audi\n",
      "2 ford\n"
     ]
    }
   ],
   "source": [
    "# Enumeration\n",
    "for position, item in enumerate([\"nissan\", \"audi\", \"ford\"]):\n",
    "    print(position, item)"
   ]
  },
  {
   "cell_type": "code",
   "execution_count": 99,
   "id": "3953f6d5",
   "metadata": {},
   "outputs": [
    {
     "name": "stdout",
     "output_type": "stream",
     "text": [
      "1 0\n",
      "2 2\n",
      "3 4\n",
      "4 6\n",
      "5 8\n"
     ]
    }
   ],
   "source": [
    "items = [2, 4, 6, 8, 0]\n",
    "items.sort()\n",
    "\n",
    "for x, y in enumerate(items):\n",
    "    print(x + 1, y)"
   ]
  },
  {
   "cell_type": "code",
   "execution_count": 102,
   "id": "66b1d778",
   "metadata": {},
   "outputs": [
    {
     "name": "stdout",
     "output_type": "stream",
     "text": [
      "Ben 30\n",
      "Acheampong 27\n",
      "Osei 32\n",
      "Kwame 35\n"
     ]
    }
   ],
   "source": [
    "names = [\"Ben\", \"Acheampong\", \"Osei\", \"Kwame\"]\n",
    "ages = [30, 27, 32, 35]\n",
    "# zip\n",
    "for name, age in zip(names, ages):\n",
    "    print(name, age)"
   ]
  },
  {
   "cell_type": "code",
   "execution_count": 103,
   "id": "18cf6297",
   "metadata": {},
   "outputs": [
    {
     "data": {
      "text/plain": [
       "['Ben', 'Acheampong', 'Osei', 'Kwame']"
      ]
     },
     "execution_count": 103,
     "metadata": {},
     "output_type": "execute_result"
    }
   ],
   "source": [
    "names"
   ]
  },
  {
   "cell_type": "code",
   "execution_count": 104,
   "id": "c9004c31",
   "metadata": {},
   "outputs": [
    {
     "data": {
      "text/plain": [
       "[30, 27, 32, 35]"
      ]
     },
     "execution_count": 104,
     "metadata": {},
     "output_type": "execute_result"
    }
   ],
   "source": [
    "ages"
   ]
  },
  {
   "cell_type": "code",
   "execution_count": null,
   "id": "f53c45b1",
   "metadata": {},
   "outputs": [],
   "source": []
  },
  {
   "cell_type": "code",
   "execution_count": 101,
   "id": "e27713b8",
   "metadata": {},
   "outputs": [
    {
     "data": {
      "text/plain": [
       "[('Ben', 30), ('Acheampong', 27), ('Osei', 32), ('Kwame', 35)]"
      ]
     },
     "execution_count": 101,
     "metadata": {},
     "output_type": "execute_result"
    }
   ],
   "source": [
    "list(zip(names, ages))"
   ]
  }
 ],
 "metadata": {
  "kernelspec": {
   "display_name": "Python 3 (ipykernel)",
   "language": "python",
   "name": "python3"
  },
  "language_info": {
   "codemirror_mode": {
    "name": "ipython",
    "version": 3
   },
   "file_extension": ".py",
   "mimetype": "text/x-python",
   "name": "python",
   "nbconvert_exporter": "python",
   "pygments_lexer": "ipython3",
   "version": "3.11.4"
  }
 },
 "nbformat": 4,
 "nbformat_minor": 5
}
