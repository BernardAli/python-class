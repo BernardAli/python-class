{
 "cells": [
  {
   "cell_type": "code",
   "execution_count": 1,
   "id": "20051b49",
   "metadata": {},
   "outputs": [],
   "source": [
    "# classes\n",
    "# blueprint for items in python\n",
    "# actions -> methods or functions\n",
    "# features -> properties\n",
    "\n",
    "\n",
    "class Person:\n",
    "    def __init__ (self, first_name, last_name, age, height):\n",
    "        self.first_name = first_name\n",
    "        self.last_name = last_name\n",
    "        self.age = age\n",
    "        self.height = height\n",
    "        \n",
    "    def walk(self):\n",
    "        print(\"Person is walking\")\n",
    "        \n",
    "    def full_name(self):\n",
    "        print(f\"{self.first_name} {self.last_name}\")\n",
    "        \n",
    "    def full_name_upper(self):\n",
    "        full_name = f\"{self.first_name} {self.last_name}\"\n",
    "        print(full_name.upper())"
   ]
  },
  {
   "cell_type": "code",
   "execution_count": 2,
   "id": "42e99306",
   "metadata": {},
   "outputs": [],
   "source": [
    "# creating an instance of the class\n",
    "# Person class\n",
    "\n",
    "person1 = Person(\"Ben\", \"Ali\", 82, 179)\n",
    "person1"
   ]
  },
  {
   "cell_type": "code",
   "execution_count": 3,
   "id": "96d4bddb",
   "metadata": {},
   "outputs": [],
   "source": [
    "person1.first_name"
   ]
  },
  {
   "cell_type": "code",
   "execution_count": 4,
   "id": "b2500490",
   "metadata": {},
   "outputs": [],
   "source": [
    "person1.last_name"
   ]
  },
  {
   "cell_type": "code",
   "execution_count": 5,
   "id": "94b3313e",
   "metadata": {},
   "outputs": [],
   "source": [
    "person1.height"
   ]
  },
  {
   "cell_type": "code",
   "execution_count": 6,
   "id": "261dfbff",
   "metadata": {},
   "outputs": [],
   "source": [
    "person1.height = 182\n",
    "person1.height"
   ]
  },
  {
   "cell_type": "code",
   "execution_count": 7,
   "id": "825a97e2",
   "metadata": {},
   "outputs": [],
   "source": [
    "person1.walk()"
   ]
  },
  {
   "cell_type": "code",
   "execution_count": 8,
   "id": "6a80da2b",
   "metadata": {},
   "outputs": [],
   "source": [
    "person1.full_name()"
   ]
  },
  {
   "cell_type": "code",
   "execution_count": 9,
   "id": "8d3fa7ec",
   "metadata": {},
   "outputs": [],
   "source": [
    "person1.full_name_upper()"
   ]
  },
  {
   "cell_type": "code",
   "execution_count": 10,
   "id": "6ffe7c8f",
   "metadata": {},
   "outputs": [],
   "source": [
    "class Accounts:\n",
    "    def __init__(self, name, account_type, opening_balance=0):\n",
    "        self.name = name\n",
    "        self.account_type = account_type\n",
    "        self.opening_balance = opening_balance\n",
    "        \n",
    "    \n",
    "    def deposit(self, amount):\n",
    "        self.opening_balance += amount\n",
    "        print(f\"You sucessfully deposited {amount}\\nYour new balance is {self.opening_balance}\")\n",
    "        \n",
    "    def withdraw(self, amount):\n",
    "        if amount > self.opening_balance:\n",
    "            print(f\"You don't have enough balance\")\n",
    "        else:\n",
    "            self.opening_balance -= amount\n",
    "            print(f\"You sucessfully withdrawn {amount}\\nYour new balance is {self.opening_balance}\")\n",
    "        \n",
    "    def balance(self):\n",
    "        print(f\"Hi {self.name} \\nYour balance is {self.opening_balance}\")"
   ]
  },
  {
   "cell_type": "code",
   "execution_count": 11,
   "id": "1eacadf4",
   "metadata": {},
   "outputs": [],
   "source": [
    "holder1 = Accounts(\"Acheampong\", \"Savings\", 50)\n",
    "holder1"
   ]
  },
  {
   "cell_type": "code",
   "execution_count": 12,
   "id": "8600b468",
   "metadata": {},
   "outputs": [],
   "source": [
    "holder1.name"
   ]
  },
  {
   "cell_type": "code",
   "execution_count": 13,
   "id": "0c0f9a41",
   "metadata": {},
   "outputs": [],
   "source": [
    "holder1.opening_balance"
   ]
  },
  {
   "cell_type": "code",
   "execution_count": 14,
   "id": "67a95b6d",
   "metadata": {},
   "outputs": [],
   "source": [
    "holder1.balance()"
   ]
  },
  {
   "cell_type": "code",
   "execution_count": 15,
   "id": "f0fa2bc9",
   "metadata": {},
   "outputs": [],
   "source": [
    "holder1.deposit(100)"
   ]
  },
  {
   "cell_type": "code",
   "execution_count": 16,
   "id": "c03f0226",
   "metadata": {},
   "outputs": [],
   "source": [
    "holder1.balance()"
   ]
  },
  {
   "cell_type": "code",
   "execution_count": 17,
   "id": "794c1f7d",
   "metadata": {},
   "outputs": [],
   "source": [
    "holder1.deposit(200)"
   ]
  },
  {
   "cell_type": "code",
   "execution_count": 18,
   "id": "8f0416d6",
   "metadata": {},
   "outputs": [],
   "source": [
    "holder1.deposit(150)"
   ]
  },
  {
   "cell_type": "code",
   "execution_count": 19,
   "id": "9c50d072",
   "metadata": {},
   "outputs": [],
   "source": [
    "holder1.withdraw(600)"
   ]
  },
  {
   "cell_type": "code",
   "execution_count": 20,
   "id": "dfb637f8",
   "metadata": {},
   "outputs": [],
   "source": [
    "holder1.withdraw(320)"
   ]
  },
  {
   "cell_type": "code",
   "execution_count": 21,
   "id": "8aaee1c8",
   "metadata": {},
   "outputs": [],
   "source": [
    "holder1.deposit(170)"
   ]
  },
  {
   "cell_type": "code",
   "execution_count": 22,
   "id": "e8f1c46d",
   "metadata": {},
   "outputs": [],
   "source": [
    "holder1.balance()"
   ]
  },
  {
   "cell_type": "code",
   "execution_count": 23,
   "id": "a9246a0d",
   "metadata": {},
   "outputs": [],
   "source": [
    "holder2 = Accounts(\"Ben\", \"Current\", 200)\n",
    "holder2.balance()"
   ]
  },
  {
   "cell_type": "code",
   "execution_count": 24,
   "id": "8c25b0a0",
   "metadata": {},
   "outputs": [],
   "source": [
    "holder1.balance()"
   ]
  },
  {
   "cell_type": "code",
   "execution_count": 25,
   "id": "f61122c5",
   "metadata": {},
   "outputs": [],
   "source": [
    "holder1.deposit(300)"
   ]
  },
  {
   "cell_type": "code",
   "execution_count": 26,
   "id": "a6e6781d",
   "metadata": {},
   "outputs": [],
   "source": [
    "holder2.deposit(700)"
   ]
  },
  {
   "cell_type": "code",
   "execution_count": 27,
   "id": "f0c6271f",
   "metadata": {},
   "outputs": [],
   "source": [
    "# simple car class\n",
    "# properties -> make, model, year, max_speed, mileage=0\n",
    "# methods -> acceleration\n",
    "# method -> update_mileage(distance)"
   ]
  },
  {
   "cell_type": "code",
   "execution_count": 28,
   "id": "f206bbcd",
   "metadata": {},
   "outputs": [],
   "source": [
    "class Car:\n",
    "    def __init__ (self, make, model, year, max_speed, mileage=0):\n",
    "        self.make = make\n",
    "        self.model = model\n",
    "        self.year = year\n",
    "        self.max_speed = max_speed\n",
    "        self.mileage = mileage\n",
    "        \n",
    "    def acceleration(self, speed):\n",
    "        if speed > self.max_speed:\n",
    "            print(f\"You have exceeded the speed limit. \\nSlow down!\")\n",
    "        else:\n",
    "            print(\"You're within the speed limit. \\nGood job!\")\n",
    "    \n",
    "    def update_mileage(self, distance):\n",
    "        self.mileage += distance"
   ]
  },
  {
   "cell_type": "code",
   "execution_count": 29,
   "id": "bae673ad",
   "metadata": {},
   "outputs": [],
   "source": [
    "car1 = Car(\"Lexus\", \"LS500h\", 2020, 199)\n"
   ]
  },
  {
   "cell_type": "code",
   "execution_count": null,
   "id": "a0ab50e0",
   "metadata": {},
   "outputs": [],
   "source": []
  }
 ],
 "metadata": {
  "kernelspec": {
   "display_name": "Python 3 (ipykernel)",
   "language": "python",
   "name": "python3"
  },
  "language_info": {
   "codemirror_mode": {
    "name": "ipython",
    "version": 3
   },
   "file_extension": ".py",
   "mimetype": "text/x-python",
   "name": "python",
   "nbconvert_exporter": "python",
   "pygments_lexer": "ipython3",
   "version": "3.11.4"
  }
 },
 "nbformat": 4,
 "nbformat_minor": 5
}
