{
 "cells": [
  {
   "cell_type": "code",
   "execution_count": 1,
   "id": "28b3becc",
   "metadata": {},
   "outputs": [
    {
     "data": {
      "text/plain": [
       "4"
      ]
     },
     "execution_count": 1,
     "metadata": {},
     "output_type": "execute_result"
    }
   ],
   "source": [
    "x = 2\n",
    "2 * x"
   ]
  },
  {
   "cell_type": "code",
   "execution_count": 2,
   "id": "ef47ed8b",
   "metadata": {},
   "outputs": [
    {
     "data": {
      "text/plain": [
       "2"
      ]
     },
     "execution_count": 2,
     "metadata": {},
     "output_type": "execute_result"
    }
   ],
   "source": [
    "x"
   ]
  },
  {
   "cell_type": "code",
   "execution_count": 3,
   "id": "e3ab24fa",
   "metadata": {},
   "outputs": [
    {
     "data": {
      "text/plain": [
       "'Ben'"
      ]
     },
     "execution_count": 3,
     "metadata": {},
     "output_type": "execute_result"
    }
   ],
   "source": [
    "my_name = \"Ben\"\n",
    "my_name"
   ]
  },
  {
   "cell_type": "code",
   "execution_count": 4,
   "id": "1e734efc",
   "metadata": {},
   "outputs": [],
   "source": [
    "other_name = \"Kwame\""
   ]
  },
  {
   "cell_type": "code",
   "execution_count": 5,
   "id": "e1366b77",
   "metadata": {},
   "outputs": [
    {
     "name": "stdout",
     "output_type": "stream",
     "text": [
      "Kwame\n"
     ]
    }
   ],
   "source": [
    "print(other_name)"
   ]
  },
  {
   "cell_type": "code",
   "execution_count": 6,
   "id": "d072f667",
   "metadata": {},
   "outputs": [
    {
     "data": {
      "text/plain": [
       "'Kwame'"
      ]
     },
     "execution_count": 6,
     "metadata": {},
     "output_type": "execute_result"
    }
   ],
   "source": [
    "other_name"
   ]
  },
  {
   "cell_type": "code",
   "execution_count": 7,
   "id": "3a9420a1",
   "metadata": {},
   "outputs": [
    {
     "data": {
      "text/plain": [
       "'Ben'"
      ]
     },
     "execution_count": 7,
     "metadata": {},
     "output_type": "execute_result"
    }
   ],
   "source": [
    "my_name"
   ]
  },
  {
   "cell_type": "code",
   "execution_count": null,
   "id": "11525594",
   "metadata": {},
   "outputs": [],
   "source": [
    "first_name = \"Doris\"\n",
    "last_name = 'Osei'"
   ]
  },
  {
   "cell_type": "code",
   "execution_count": null,
   "id": "c02c1db1",
   "metadata": {},
   "outputs": [
    {
     "data": {
      "text/plain": [
       "'My school\"s color is red'"
      ]
     },
     "execution_count": 9,
     "metadata": {},
     "output_type": "execute_result"
    }
   ],
   "source": [
    "message = 'My school\"s color is red'\n",
    "message"
   ]
  },
  {
   "cell_type": "code",
   "execution_count": null,
   "id": "6696a1da",
   "metadata": {},
   "outputs": [
    {
     "data": {
      "text/plain": [
       "2"
      ]
     },
     "execution_count": 10,
     "metadata": {},
     "output_type": "execute_result"
    }
   ],
   "source": [
    "x"
   ]
  },
  {
   "cell_type": "code",
   "execution_count": null,
   "id": "d33e8e98",
   "metadata": {},
   "outputs": [
    {
     "data": {
      "text/plain": [
       "int"
      ]
     },
     "execution_count": 11,
     "metadata": {},
     "output_type": "execute_result"
    }
   ],
   "source": [
    "type(x)"
   ]
  },
  {
   "cell_type": "code",
   "execution_count": null,
   "id": "ae9abd2c",
   "metadata": {},
   "outputs": [
    {
     "data": {
      "text/plain": [
       "str"
      ]
     },
     "execution_count": 12,
     "metadata": {},
     "output_type": "execute_result"
    }
   ],
   "source": [
    "type(message)"
   ]
  },
  {
   "cell_type": "code",
   "execution_count": null,
   "id": "d1b19387",
   "metadata": {},
   "outputs": [
    {
     "data": {
      "text/plain": [
       "'DORIS'"
      ]
     },
     "execution_count": 13,
     "metadata": {},
     "output_type": "execute_result"
    }
   ],
   "source": [
    "first_name.upper()"
   ]
  },
  {
   "cell_type": "code",
   "execution_count": null,
   "id": "84c5382f",
   "metadata": {},
   "outputs": [
    {
     "data": {
      "text/plain": [
       "'doris'"
      ]
     },
     "execution_count": 14,
     "metadata": {},
     "output_type": "execute_result"
    }
   ],
   "source": [
    "first_name.lower()"
   ]
  },
  {
   "cell_type": "code",
   "execution_count": null,
   "id": "52409f54",
   "metadata": {},
   "outputs": [
    {
     "data": {
      "text/plain": [
       "'My School\"S Color Is Red'"
      ]
     },
     "execution_count": 15,
     "metadata": {},
     "output_type": "execute_result"
    }
   ],
   "source": [
    "message.title()"
   ]
  },
  {
   "cell_type": "code",
   "execution_count": null,
   "id": "4ac1843e",
   "metadata": {},
   "outputs": [
    {
     "data": {
      "text/plain": [
       "'mY SCHOOL\"S COLOR IS RED'"
      ]
     },
     "execution_count": 16,
     "metadata": {},
     "output_type": "execute_result"
    }
   ],
   "source": [
    "message.swapcase()"
   ]
  },
  {
   "cell_type": "code",
   "execution_count": 17,
   "id": "f0ecd8f6",
   "metadata": {},
   "outputs": [
    {
     "data": {
      "text/plain": [
       "4"
      ]
     },
     "execution_count": 17,
     "metadata": {},
     "output_type": "execute_result"
    }
   ],
   "source": [
    "message.count('o')"
   ]
  },
  {
   "cell_type": "code",
   "execution_count": 18,
   "id": "7418de86",
   "metadata": {},
   "outputs": [
    {
     "data": {
      "text/plain": [
       "True"
      ]
     },
     "execution_count": 18,
     "metadata": {},
     "output_type": "execute_result"
    }
   ],
   "source": [
    "message.endswith('d')"
   ]
  },
  {
   "cell_type": "code",
   "execution_count": 19,
   "id": "068bed1d",
   "metadata": {},
   "outputs": [
    {
     "data": {
      "text/plain": [
       "False"
      ]
     },
     "execution_count": 19,
     "metadata": {},
     "output_type": "execute_result"
    }
   ],
   "source": [
    "message.endswith('e')"
   ]
  },
  {
   "cell_type": "code",
   "execution_count": 20,
   "id": "3156626e",
   "metadata": {},
   "outputs": [
    {
     "data": {
      "text/plain": [
       "24"
      ]
     },
     "execution_count": 20,
     "metadata": {},
     "output_type": "execute_result"
    }
   ],
   "source": [
    "len(message)"
   ]
  },
  {
   "cell_type": "code",
   "execution_count": 21,
   "id": "6c4cf865",
   "metadata": {},
   "outputs": [
    {
     "data": {
      "text/plain": [
       "5"
      ]
     },
     "execution_count": 21,
     "metadata": {},
     "output_type": "execute_result"
    }
   ],
   "source": [
    "len(first_name)"
   ]
  },
  {
   "cell_type": "code",
   "execution_count": 22,
   "id": "96565e33",
   "metadata": {},
   "outputs": [
    {
     "data": {
      "text/plain": [
       "'DorisOsei'"
      ]
     },
     "execution_count": 22,
     "metadata": {},
     "output_type": "execute_result"
    }
   ],
   "source": [
    "full_name = first_name + last_name\n",
    "full_name"
   ]
  },
  {
   "cell_type": "code",
   "execution_count": 23,
   "id": "2005277c",
   "metadata": {},
   "outputs": [
    {
     "data": {
      "text/plain": [
       "'Doris Osei'"
      ]
     },
     "execution_count": 23,
     "metadata": {},
     "output_type": "execute_result"
    }
   ],
   "source": [
    "full_name = first_name + \" \" +last_name\n",
    "full_name"
   ]
  },
  {
   "cell_type": "code",
   "execution_count": 24,
   "id": "b5d62f7f",
   "metadata": {},
   "outputs": [
    {
     "data": {
      "text/plain": [
       "'My first name is Doris and last name is Osei'"
      ]
     },
     "execution_count": 24,
     "metadata": {},
     "output_type": "execute_result"
    }
   ],
   "source": [
    "full_name = f\"My first name is {first_name} and last name is {last_name}\"\n",
    "full_name"
   ]
  },
  {
   "cell_type": "code",
   "execution_count": 25,
   "id": "4e86c038",
   "metadata": {},
   "outputs": [
    {
     "data": {
      "text/plain": [
       "'My first name is {first_name} and last name is {last_name}'"
      ]
     },
     "execution_count": 25,
     "metadata": {},
     "output_type": "execute_result"
    }
   ],
   "source": [
    "full_name = \"My first name is {first_name} and last name is {last_name}\"\n",
    "full_name"
   ]
  },
  {
   "cell_type": "code",
   "execution_count": 26,
   "id": "82388831",
   "metadata": {},
   "outputs": [
    {
     "data": {
      "text/plain": [
       "'My first name is Doris and last name is Osei'"
      ]
     },
     "execution_count": 26,
     "metadata": {},
     "output_type": "execute_result"
    }
   ],
   "source": [
    "full_name = f\"My first name is {first_name} and last name is {last_name}\"\n",
    "full_name"
   ]
  },
  {
   "cell_type": "code",
   "execution_count": 27,
   "id": "3481557a",
   "metadata": {},
   "outputs": [
    {
     "data": {
      "text/plain": [
       "82"
      ]
     },
     "execution_count": 27,
     "metadata": {},
     "output_type": "execute_result"
    }
   ],
   "source": [
    "age = 82\n",
    "age"
   ]
  },
  {
   "cell_type": "code",
   "execution_count": 28,
   "id": "6a3db647",
   "metadata": {},
   "outputs": [
    {
     "data": {
      "text/plain": [
       "int"
      ]
     },
     "execution_count": 28,
     "metadata": {},
     "output_type": "execute_result"
    }
   ],
   "source": [
    "type(age)"
   ]
  },
  {
   "cell_type": "code",
   "execution_count": 29,
   "id": "2d4aa7a8",
   "metadata": {},
   "outputs": [
    {
     "data": {
      "text/plain": [
       "float"
      ]
     },
     "execution_count": 29,
     "metadata": {},
     "output_type": "execute_result"
    }
   ],
   "source": [
    "cgpa = 3.60\n",
    "type(cgpa)"
   ]
  },
  {
   "cell_type": "code",
   "execution_count": 30,
   "id": "da8194ab",
   "metadata": {},
   "outputs": [
    {
     "data": {
      "text/plain": [
       "0"
      ]
     },
     "execution_count": 30,
     "metadata": {},
     "output_type": "execute_result"
    }
   ],
   "source": [
    "# +, -, /, *, **, %\n",
    "21 % 7"
   ]
  },
  {
   "cell_type": "code",
   "execution_count": 31,
   "id": "4490b6fc",
   "metadata": {},
   "outputs": [
    {
     "data": {
      "text/plain": [
       "12676506002282294014967032053760000000000000000000000000000000000000000000000000000000000000000000000000000000000000000000000000000"
      ]
     },
     "execution_count": 31,
     "metadata": {},
     "output_type": "execute_result"
    }
   ],
   "source": [
    "20 ** 100"
   ]
  },
  {
   "cell_type": "code",
   "execution_count": 32,
   "id": "0db69cd3",
   "metadata": {},
   "outputs": [
    {
     "data": {
      "text/plain": [
       "8010000000"
      ]
     },
     "execution_count": 32,
     "metadata": {},
     "output_type": "execute_result"
    }
   ],
   "source": [
    "world_pop = 8_010_000_000\n",
    "world_pop"
   ]
  },
  {
   "cell_type": "code",
   "execution_count": 33,
   "id": "7f0bd714",
   "metadata": {},
   "outputs": [],
   "source": [
    "a = 10\n",
    "b = 20\n",
    "c = 30"
   ]
  },
  {
   "cell_type": "code",
   "execution_count": 34,
   "id": "2edfcf18",
   "metadata": {},
   "outputs": [],
   "source": [
    "x, y, z = 1, 2, 3"
   ]
  },
  {
   "cell_type": "code",
   "execution_count": 35,
   "id": "c55e8250",
   "metadata": {},
   "outputs": [
    {
     "data": {
      "text/plain": [
       "3"
      ]
     },
     "execution_count": 35,
     "metadata": {},
     "output_type": "execute_result"
    }
   ],
   "source": [
    "z"
   ]
  },
  {
   "cell_type": "code",
   "execution_count": 36,
   "id": "39d250b1",
   "metadata": {},
   "outputs": [
    {
     "data": {
      "text/plain": [
       "1"
      ]
     },
     "execution_count": 36,
     "metadata": {},
     "output_type": "execute_result"
    }
   ],
   "source": [
    "x"
   ]
  },
  {
   "cell_type": "code",
   "execution_count": 37,
   "id": "b1d42bf3",
   "metadata": {},
   "outputs": [
    {
     "data": {
      "text/plain": [
       "2"
      ]
     },
     "execution_count": 37,
     "metadata": {},
     "output_type": "execute_result"
    }
   ],
   "source": [
    "y"
   ]
  },
  {
   "cell_type": "code",
   "execution_count": 38,
   "id": "583546a8",
   "metadata": {},
   "outputs": [],
   "source": [
    "y = 5"
   ]
  },
  {
   "cell_type": "code",
   "execution_count": 39,
   "id": "4082446e",
   "metadata": {},
   "outputs": [
    {
     "data": {
      "text/plain": [
       "5"
      ]
     },
     "execution_count": 39,
     "metadata": {},
     "output_type": "execute_result"
    }
   ],
   "source": [
    "y"
   ]
  },
  {
   "cell_type": "code",
   "execution_count": 40,
   "id": "1ebda581",
   "metadata": {},
   "outputs": [],
   "source": [
    "PI = 3.14159"
   ]
  },
  {
   "cell_type": "code",
   "execution_count": 41,
   "id": "9d7d65e5",
   "metadata": {},
   "outputs": [
    {
     "data": {
      "text/plain": [
       "'Doris'"
      ]
     },
     "execution_count": 41,
     "metadata": {},
     "output_type": "execute_result"
    }
   ],
   "source": [
    "first_name"
   ]
  },
  {
   "cell_type": "code",
   "execution_count": 42,
   "id": "7aa6218a",
   "metadata": {},
   "outputs": [
    {
     "data": {
      "text/plain": [
       "'Abi'"
      ]
     },
     "execution_count": 42,
     "metadata": {},
     "output_type": "execute_result"
    }
   ],
   "source": [
    "first_name = \"Abi\"\n",
    "first_name"
   ]
  },
  {
   "cell_type": "code",
   "execution_count": 43,
   "id": "88757e80",
   "metadata": {},
   "outputs": [],
   "source": [
    "# strings\n",
    "# jsjdsa"
   ]
  },
  {
   "cell_type": "code",
   "execution_count": 44,
   "id": "53eaa829",
   "metadata": {},
   "outputs": [
    {
     "data": {
      "text/plain": [
       "'\\nThis is \\na multi line \\ncomments\\n'"
      ]
     },
     "execution_count": 44,
     "metadata": {},
     "output_type": "execute_result"
    }
   ],
   "source": [
    "\"\"\"\n",
    "This is \n",
    "a multi line \n",
    "comments\n",
    "\"\"\""
   ]
  },
  {
   "cell_type": "code",
   "execution_count": 45,
   "id": "3c1c5d7d",
   "metadata": {},
   "outputs": [
    {
     "name": "stdout",
     "output_type": "stream",
     "text": [
      "The Zen of Python, by Tim Peters\n",
      "\n",
      "Beautiful is better than ugly.\n",
      "Explicit is better than implicit.\n",
      "Simple is better than complex.\n",
      "Complex is better than complicated.\n",
      "Flat is better than nested.\n",
      "Sparse is better than dense.\n",
      "Readability counts.\n",
      "Special cases aren't special enough to break the rules.\n",
      "Although practicality beats purity.\n",
      "Errors should never pass silently.\n",
      "Unless explicitly silenced.\n",
      "In the face of ambiguity, refuse the temptation to guess.\n",
      "There should be one-- and preferably only one --obvious way to do it.\n",
      "Although that way may not be obvious at first unless you're Dutch.\n",
      "Now is better than never.\n",
      "Although never is often better than *right* now.\n",
      "If the implementation is hard to explain, it's a bad idea.\n",
      "If the implementation is easy to explain, it may be a good idea.\n",
      "Namespaces are one honking great idea -- let's do more of those!\n"
     ]
    }
   ],
   "source": [
    "import this"
   ]
  },
  {
   "cell_type": "code",
   "execution_count": 46,
   "id": "388dbe93",
   "metadata": {},
   "outputs": [
    {
     "data": {
      "text/plain": [
       "['bmw', 'audi', 'ford', 'volvo', 'hyundai', 'kia', 'honda']"
      ]
     },
     "execution_count": 46,
     "metadata": {},
     "output_type": "execute_result"
    }
   ],
   "source": [
    "# Lists\n",
    "cars = [\"bmw\", \"audi\", \"ford\", \"volvo\", \"hyundai\", \"kia\", \"honda\"]\n",
    "cars"
   ]
  },
  {
   "cell_type": "code",
   "execution_count": 47,
   "id": "2ad0e5ce",
   "metadata": {},
   "outputs": [
    {
     "data": {
      "text/plain": [
       "'bmw'"
      ]
     },
     "execution_count": 47,
     "metadata": {},
     "output_type": "execute_result"
    }
   ],
   "source": [
    "# list_name[position]\n",
    "cars[0]"
   ]
  },
  {
   "cell_type": "code",
   "execution_count": 48,
   "id": "47385866",
   "metadata": {},
   "outputs": [
    {
     "data": {
      "text/plain": [
       "'audi'"
      ]
     },
     "execution_count": 48,
     "metadata": {},
     "output_type": "execute_result"
    }
   ],
   "source": [
    "cars[1]"
   ]
  },
  {
   "cell_type": "code",
   "execution_count": 49,
   "id": "34bcabd7",
   "metadata": {},
   "outputs": [
    {
     "data": {
      "text/plain": [
       "'ford'"
      ]
     },
     "execution_count": 49,
     "metadata": {},
     "output_type": "execute_result"
    }
   ],
   "source": [
    "cars[2]"
   ]
  },
  {
   "cell_type": "code",
   "execution_count": 50,
   "id": "ca7c8e13",
   "metadata": {},
   "outputs": [
    {
     "data": {
      "text/plain": [
       "7"
      ]
     },
     "execution_count": 50,
     "metadata": {},
     "output_type": "execute_result"
    }
   ],
   "source": [
    "len(cars)"
   ]
  },
  {
   "cell_type": "code",
   "execution_count": 51,
   "id": "da391be4",
   "metadata": {},
   "outputs": [
    {
     "data": {
      "text/plain": [
       "'honda'"
      ]
     },
     "execution_count": 51,
     "metadata": {},
     "output_type": "execute_result"
    }
   ],
   "source": [
    "cars[len(cars) - 1]"
   ]
  },
  {
   "cell_type": "code",
   "execution_count": 52,
   "id": "6f24bef6",
   "metadata": {},
   "outputs": [
    {
     "data": {
      "text/plain": [
       "6"
      ]
     },
     "execution_count": 52,
     "metadata": {},
     "output_type": "execute_result"
    }
   ],
   "source": [
    "len(cars) - 1"
   ]
  },
  {
   "cell_type": "code",
   "execution_count": 53,
   "id": "caa79dc0",
   "metadata": {},
   "outputs": [
    {
     "data": {
      "text/plain": [
       "'honda'"
      ]
     },
     "execution_count": 53,
     "metadata": {},
     "output_type": "execute_result"
    }
   ],
   "source": [
    "cars[-1]"
   ]
  },
  {
   "cell_type": "code",
   "execution_count": 54,
   "id": "87f1367d",
   "metadata": {},
   "outputs": [
    {
     "data": {
      "text/plain": [
       "'kia'"
      ]
     },
     "execution_count": 54,
     "metadata": {},
     "output_type": "execute_result"
    }
   ],
   "source": [
    "cars[-2]"
   ]
  },
  {
   "cell_type": "code",
   "execution_count": 55,
   "id": "44113739",
   "metadata": {},
   "outputs": [
    {
     "data": {
      "text/plain": [
       "['bmw', 'audi', 'ford', 'volvo', 'hyundai', 'kia', 'honda']"
      ]
     },
     "execution_count": 55,
     "metadata": {},
     "output_type": "execute_result"
    }
   ],
   "source": [
    "# modify\n",
    "cars"
   ]
  },
  {
   "cell_type": "code",
   "execution_count": 56,
   "id": "2e6b0aa4",
   "metadata": {},
   "outputs": [
    {
     "data": {
      "text/plain": [
       "['toyota', 'audi', 'ford', 'volvo', 'hyundai', 'kia', 'honda']"
      ]
     },
     "execution_count": 56,
     "metadata": {},
     "output_type": "execute_result"
    }
   ],
   "source": [
    "cars[0] = \"toyota\"\n",
    "cars"
   ]
  },
  {
   "cell_type": "code",
   "execution_count": 57,
   "id": "0a506a7b",
   "metadata": {},
   "outputs": [
    {
     "data": {
      "text/plain": [
       "['toyota', 'audi', 'ford', 'volvo', 'hyundai', 'kia', 'opel']"
      ]
     },
     "execution_count": 57,
     "metadata": {},
     "output_type": "execute_result"
    }
   ],
   "source": [
    "cars[-1] = \"opel\"\n",
    "cars"
   ]
  },
  {
   "cell_type": "code",
   "execution_count": 58,
   "id": "34459034",
   "metadata": {},
   "outputs": [
    {
     "data": {
      "text/plain": [
       "['toyota', 'audi', 'ford', 'volvo', 'hyundai', 'kia', 'opel', 'daewoo']"
      ]
     },
     "execution_count": 58,
     "metadata": {},
     "output_type": "execute_result"
    }
   ],
   "source": [
    "# adding\n",
    "# append(), insert()\n",
    "cars.append(\"daewoo\")\n",
    "cars"
   ]
  },
  {
   "cell_type": "code",
   "execution_count": 59,
   "id": "62d08668",
   "metadata": {},
   "outputs": [
    {
     "data": {
      "text/plain": [
       "['toyota',\n",
       " 'mitsuibishi',\n",
       " 'audi',\n",
       " 'ford',\n",
       " 'volvo',\n",
       " 'hyundai',\n",
       " 'kia',\n",
       " 'opel',\n",
       " 'daewoo']"
      ]
     },
     "execution_count": 59,
     "metadata": {},
     "output_type": "execute_result"
    }
   ],
   "source": [
    "cars.insert(1, \"mitsuibishi\")\n",
    "cars"
   ]
  },
  {
   "cell_type": "code",
   "execution_count": 60,
   "id": "bcd1bfd4",
   "metadata": {},
   "outputs": [
    {
     "data": {
      "text/plain": [
       "['toyota', 'mitsuibishi', 'audi', 'ford', 'volvo', 'hyundai', 'kia', 'opel']"
      ]
     },
     "execution_count": 60,
     "metadata": {},
     "output_type": "execute_result"
    }
   ],
   "source": [
    "# Removing from a list\n",
    "# pop(), remove(), del\n",
    "cars.pop()\n",
    "cars"
   ]
  },
  {
   "cell_type": "code",
   "execution_count": 61,
   "id": "afe87ad4",
   "metadata": {},
   "outputs": [],
   "source": [
    "cars.append(\"daewoo\")"
   ]
  },
  {
   "cell_type": "code",
   "execution_count": 62,
   "id": "c13d28eb",
   "metadata": {},
   "outputs": [
    {
     "data": {
      "text/plain": [
       "['toyota',\n",
       " 'mitsuibishi',\n",
       " 'audi',\n",
       " 'ford',\n",
       " 'volvo',\n",
       " 'hyundai',\n",
       " 'kia',\n",
       " 'opel',\n",
       " 'daewoo']"
      ]
     },
     "execution_count": 62,
     "metadata": {},
     "output_type": "execute_result"
    }
   ],
   "source": [
    "cars"
   ]
  },
  {
   "cell_type": "code",
   "execution_count": 63,
   "id": "983acb93",
   "metadata": {},
   "outputs": [
    {
     "data": {
      "text/plain": [
       "['toyota', 'mitsuibishi', 'audi', 'ford', 'volvo', 'hyundai', 'kia', 'opel']"
      ]
     },
     "execution_count": 63,
     "metadata": {},
     "output_type": "execute_result"
    }
   ],
   "source": [
    "cars.pop()\n",
    "cars"
   ]
  },
  {
   "cell_type": "code",
   "execution_count": 64,
   "id": "45fea838",
   "metadata": {},
   "outputs": [
    {
     "data": {
      "text/plain": [
       "['toyota', 'mitsuibishi', 'audi', 'ford', 'volvo', 'hyundai', 'kia']"
      ]
     },
     "execution_count": 64,
     "metadata": {},
     "output_type": "execute_result"
    }
   ],
   "source": [
    "cars.pop()\n",
    "cars"
   ]
  },
  {
   "cell_type": "code",
   "execution_count": 65,
   "id": "204310d7",
   "metadata": {},
   "outputs": [
    {
     "data": {
      "text/plain": [
       "['mitsuibishi', 'audi', 'ford', 'volvo', 'hyundai', 'kia']"
      ]
     },
     "execution_count": 65,
     "metadata": {},
     "output_type": "execute_result"
    }
   ],
   "source": [
    "cars.pop(0)\n",
    "cars"
   ]
  },
  {
   "cell_type": "code",
   "execution_count": 66,
   "id": "8005a08c",
   "metadata": {},
   "outputs": [
    {
     "data": {
      "text/plain": [
       "['mitsuibishi', 'audi', 'ford', 'volvo', 'hyundai']"
      ]
     },
     "execution_count": 66,
     "metadata": {},
     "output_type": "execute_result"
    }
   ],
   "source": [
    "cars.remove(\"kia\")\n",
    "cars"
   ]
  },
  {
   "cell_type": "code",
   "execution_count": 67,
   "id": "34040bae",
   "metadata": {},
   "outputs": [
    {
     "data": {
      "text/plain": [
       "['mitsuibishi', 'ford', 'volvo', 'hyundai']"
      ]
     },
     "execution_count": 67,
     "metadata": {},
     "output_type": "execute_result"
    }
   ],
   "source": [
    "del cars[1]\n",
    "cars"
   ]
  },
  {
   "cell_type": "code",
   "execution_count": 68,
   "id": "64782c4e",
   "metadata": {},
   "outputs": [
    {
     "data": {
      "text/plain": [
       "['ford', 'hyundai', 'mitsuibishi', 'volvo']"
      ]
     },
     "execution_count": 68,
     "metadata": {},
     "output_type": "execute_result"
    }
   ],
   "source": [
    "# Organisation of lists\n",
    "# sort\n",
    "# temporal\n",
    "sorted(cars)"
   ]
  },
  {
   "cell_type": "code",
   "execution_count": 69,
   "id": "b57044ac",
   "metadata": {},
   "outputs": [
    {
     "data": {
      "text/plain": [
       "['mitsuibishi', 'ford', 'volvo', 'hyundai']"
      ]
     },
     "execution_count": 69,
     "metadata": {},
     "output_type": "execute_result"
    }
   ],
   "source": [
    "cars"
   ]
  },
  {
   "cell_type": "code",
   "execution_count": 70,
   "id": "66b1a8cf",
   "metadata": {},
   "outputs": [
    {
     "data": {
      "text/plain": [
       "['ford', 'hyundai', 'mitsuibishi', 'volvo']"
      ]
     },
     "execution_count": 70,
     "metadata": {},
     "output_type": "execute_result"
    }
   ],
   "source": [
    "# permanently\n",
    "cars.sort()\n",
    "cars"
   ]
  },
  {
   "cell_type": "code",
   "execution_count": 71,
   "id": "527b8f0a",
   "metadata": {},
   "outputs": [
    {
     "data": {
      "text/plain": [
       "['ford', 'hyundai', 'mitsuibishi', 'volvo']"
      ]
     },
     "execution_count": 71,
     "metadata": {},
     "output_type": "execute_result"
    }
   ],
   "source": [
    "cars"
   ]
  },
  {
   "cell_type": "code",
   "execution_count": 72,
   "id": "c6c76b4b",
   "metadata": {},
   "outputs": [
    {
     "data": {
      "text/plain": [
       "['volvo', 'mitsuibishi', 'hyundai', 'ford']"
      ]
     },
     "execution_count": 72,
     "metadata": {},
     "output_type": "execute_result"
    }
   ],
   "source": [
    "cars.sort(reverse=True)\n",
    "cars"
   ]
  },
  {
   "cell_type": "code",
   "execution_count": 73,
   "id": "1cb53fa2",
   "metadata": {},
   "outputs": [
    {
     "data": {
      "text/plain": [
       "['Accra', 'Abuja', 'Cairo', 'Paris', 'London', 'Berlin']"
      ]
     },
     "execution_count": 73,
     "metadata": {},
     "output_type": "execute_result"
    }
   ],
   "source": [
    "cities = [\"Accra\", \"Abuja\", \"Cairo\",\"Paris\", \"London\", \"Berlin\"]\n",
    "cities"
   ]
  },
  {
   "cell_type": "code",
   "execution_count": 74,
   "id": "e83e1857",
   "metadata": {},
   "outputs": [
    {
     "data": {
      "text/plain": [
       "6"
      ]
     },
     "execution_count": 74,
     "metadata": {},
     "output_type": "execute_result"
    }
   ],
   "source": [
    "len(cities)"
   ]
  },
  {
   "cell_type": "code",
   "execution_count": 75,
   "id": "c1793d98",
   "metadata": {},
   "outputs": [
    {
     "data": {
      "text/plain": [
       "5"
      ]
     },
     "execution_count": 75,
     "metadata": {},
     "output_type": "execute_result"
    }
   ],
   "source": [
    "len(cities[0])"
   ]
  },
  {
   "cell_type": "code",
   "execution_count": 76,
   "id": "8384c611",
   "metadata": {},
   "outputs": [
    {
     "data": {
      "text/plain": [
       "['Accra', 'Abuja', 'Cairo', 'Paris', 'London', 'Berlin', 'New York']"
      ]
     },
     "execution_count": 76,
     "metadata": {},
     "output_type": "execute_result"
    }
   ],
   "source": [
    "cities.append(\"New York\")\n",
    "cities"
   ]
  },
  {
   "cell_type": "code",
   "execution_count": 77,
   "id": "8c6da9ae",
   "metadata": {},
   "outputs": [
    {
     "data": {
      "text/plain": [
       "['Accra', 'Abuja', 'Cairo', 'Paris', 'London', 'Berlin', 'New York', 'Abidjan']"
      ]
     },
     "execution_count": 77,
     "metadata": {},
     "output_type": "execute_result"
    }
   ],
   "source": [
    "cities.append(\"Abidjan\")\n",
    "cities"
   ]
  },
  {
   "cell_type": "code",
   "execution_count": 78,
   "id": "c6a38088",
   "metadata": {},
   "outputs": [
    {
     "data": {
      "text/plain": [
       "['Accra',\n",
       " 'Abuja',\n",
       " 'Cairo',\n",
       " 'Paris',\n",
       " 'London',\n",
       " 'Berlin',\n",
       " 'New York',\n",
       " 'Abidjan',\n",
       " 'Sydney']"
      ]
     },
     "execution_count": 78,
     "metadata": {},
     "output_type": "execute_result"
    }
   ],
   "source": [
    "cities.append(\"Sydney\")\n",
    "cities"
   ]
  },
  {
   "cell_type": "code",
   "execution_count": 79,
   "id": "78bb983b",
   "metadata": {},
   "outputs": [
    {
     "data": {
      "text/plain": [
       "['Abidjan',\n",
       " 'Abuja',\n",
       " 'Accra',\n",
       " 'Berlin',\n",
       " 'Cairo',\n",
       " 'London',\n",
       " 'New York',\n",
       " 'Paris',\n",
       " 'Sydney']"
      ]
     },
     "execution_count": 79,
     "metadata": {},
     "output_type": "execute_result"
    }
   ],
   "source": [
    "cities.sort()\n",
    "cities"
   ]
  },
  {
   "cell_type": "code",
   "execution_count": 80,
   "id": "fb20f582",
   "metadata": {},
   "outputs": [
    {
     "data": {
      "text/plain": [
       "['Sydney',\n",
       " 'Abuja',\n",
       " 'Accra',\n",
       " 'Berlin',\n",
       " 'Cairo',\n",
       " 'London',\n",
       " 'New York',\n",
       " 'Paris',\n",
       " 'Abidjan']"
      ]
     },
     "execution_count": 80,
     "metadata": {},
     "output_type": "execute_result"
    }
   ],
   "source": [
    "cities[-1], cities[0] = cities[0], cities[-1]\n",
    "cities"
   ]
  },
  {
   "cell_type": "code",
   "execution_count": 81,
   "id": "dc71221e",
   "metadata": {},
   "outputs": [
    {
     "data": {
      "text/plain": [
       "1"
      ]
     },
     "execution_count": 81,
     "metadata": {},
     "output_type": "execute_result"
    }
   ],
   "source": [
    "a, b, c = 1, 2, 3\n",
    "a"
   ]
  },
  {
   "cell_type": "code",
   "execution_count": 82,
   "id": "5b8ef5ca",
   "metadata": {},
   "outputs": [
    {
     "data": {
      "text/plain": [
       "2"
      ]
     },
     "execution_count": 82,
     "metadata": {},
     "output_type": "execute_result"
    }
   ],
   "source": [
    "b"
   ]
  },
  {
   "cell_type": "code",
   "execution_count": 83,
   "id": "f9337e67",
   "metadata": {},
   "outputs": [
    {
     "data": {
      "text/plain": [
       "3"
      ]
     },
     "execution_count": 83,
     "metadata": {},
     "output_type": "execute_result"
    }
   ],
   "source": [
    "c"
   ]
  },
  {
   "cell_type": "code",
   "execution_count": null,
   "id": "81912483",
   "metadata": {},
   "outputs": [],
   "source": [
    "x, y = 5, 10\n",
    "x, y = y, x"
   ]
  },
  {
   "cell_type": "code",
   "execution_count": null,
   "id": "9e75a7b9",
   "metadata": {},
   "outputs": [],
   "source": [
    "x"
   ]
  },
  {
   "cell_type": "code",
   "execution_count": null,
   "id": "10d90c44",
   "metadata": {},
   "outputs": [],
   "source": [
    "y"
   ]
  },
  {
   "cell_type": "code",
   "execution_count": null,
   "id": "d0ce49bc",
   "metadata": {},
   "outputs": [],
   "source": [
    "ages = [1, 2, 3, 4, 5, 6, 7, 8, 9]\n",
    "ages"
   ]
  },
  {
   "cell_type": "code",
   "execution_count": null,
   "id": "ab7c1028",
   "metadata": {},
   "outputs": [],
   "source": [
    "type(ages[0])"
   ]
  },
  {
   "cell_type": "code",
   "execution_count": null,
   "id": "007c18f5",
   "metadata": {},
   "outputs": [],
   "source": [
    "nums = [[1, 2], [3, 4], [5, 6]]\n",
    "nums"
   ]
  },
  {
   "cell_type": "code",
   "execution_count": null,
   "id": "9f6a5406",
   "metadata": {},
   "outputs": [],
   "source": [
    "nums[0]"
   ]
  },
  {
   "cell_type": "code",
   "execution_count": null,
   "id": "7e3d7809",
   "metadata": {},
   "outputs": [],
   "source": [
    "nums[0][0]"
   ]
  },
  {
   "cell_type": "code",
   "execution_count": null,
   "id": "f94ded4c",
   "metadata": {},
   "outputs": [],
   "source": [
    "nums[-1][0]"
   ]
  },
  {
   "cell_type": "code",
   "execution_count": null,
   "id": "375984fe",
   "metadata": {},
   "outputs": [],
   "source": [
    "nums[2][0]"
   ]
  },
  {
   "cell_type": "code",
   "execution_count": null,
   "id": "d77c203e",
   "metadata": {},
   "outputs": [],
   "source": [
    "nums"
   ]
  },
  {
   "cell_type": "code",
   "execution_count": null,
   "id": "1cd0ca50",
   "metadata": {},
   "outputs": [],
   "source": [
    "nums[1]"
   ]
  },
  {
   "cell_type": "code",
   "execution_count": null,
   "id": "6b8a0ee3",
   "metadata": {},
   "outputs": [],
   "source": [
    "nums[1][0]"
   ]
  },
  {
   "cell_type": "code",
   "execution_count": null,
   "id": "78f19258",
   "metadata": {},
   "outputs": [],
   "source": [
    "ages"
   ]
  },
  {
   "cell_type": "code",
   "execution_count": null,
   "id": "953718cc",
   "metadata": {},
   "outputs": [],
   "source": [
    "\n",
    "\n",
    "scores = list(ages)\n",
    "scores"
   ]
  },
  {
   "cell_type": "code",
   "execution_count": null,
   "id": "3972e757",
   "metadata": {},
   "outputs": [],
   "source": []
  },
  {
   "cell_type": "code",
   "execution_count": null,
   "id": "176cf81c",
   "metadata": {},
   "outputs": [],
   "source": []
  },
  {
   "cell_type": "code",
   "execution_count": null,
   "id": "776f75b1",
   "metadata": {},
   "outputs": [],
   "source": [
    "# range(start, end+1, step)\n",
    "# list() []\n",
    "numbers = list(range(0, 21))\n",
    "numbers"
   ]
  },
  {
   "cell_type": "code",
   "execution_count": null,
   "id": "9552492c",
   "metadata": {},
   "outputs": [],
   "source": []
  },
  {
   "cell_type": "code",
   "execution_count": null,
   "id": "03dafb86",
   "metadata": {},
   "outputs": [],
   "source": [
    "ages"
   ]
  },
  {
   "cell_type": "code",
   "execution_count": null,
   "id": "2ccc89d5",
   "metadata": {},
   "outputs": [],
   "source": [
    "ages = [1, 2, 3, 4, 5, 6, 7, 8, 9]\n",
    "ages"
   ]
  },
  {
   "cell_type": "code",
   "execution_count": null,
   "id": "2c523da2",
   "metadata": {},
   "outputs": [],
   "source": [
    "# loop\n",
    "# for loop\n",
    "for item in range(0, 21, 2):\n",
    "    print(item)"
   ]
  },
  {
   "cell_type": "code",
   "execution_count": null,
   "id": "ecfaf19e",
   "metadata": {},
   "outputs": [],
   "source": [
    "# sum 0 to 50\n",
    "numbers = range(0, 51)\n",
    "sum = 0\n",
    "for item in numbers:\n",
    "#     print(item)\n",
    "    sum += item\n",
    "\n",
    "sum"
   ]
  },
  {
   "cell_type": "code",
   "execution_count": null,
   "id": "e5281401",
   "metadata": {},
   "outputs": [],
   "source": [
    "# basic stats\n",
    "# sum, min, max"
   ]
  },
  {
   "cell_type": "code",
   "execution_count": null,
   "id": "e9e64ad3",
   "metadata": {},
   "outputs": [],
   "source": [
    "ages = [1, 2, 3, 4, 5, 6, 7, 8, 9]\n",
    "ages"
   ]
  },
  {
   "cell_type": "code",
   "execution_count": null,
   "id": "f500ab94",
   "metadata": {},
   "outputs": [],
   "source": [
    "min(ages)"
   ]
  },
  {
   "cell_type": "code",
   "execution_count": null,
   "id": "27dceda8",
   "metadata": {},
   "outputs": [],
   "source": [
    "max(ages)"
   ]
  },
  {
   "cell_type": "code",
   "execution_count": null,
   "id": "8a55b451",
   "metadata": {},
   "outputs": [],
   "source": [
    "sum(ages)"
   ]
  },
  {
   "cell_type": "code",
   "execution_count": null,
   "id": "34c45d34",
   "metadata": {},
   "outputs": [],
   "source": [
    "xs = [1, 2, 3, 4, 5]\n",
    "print(sum(xs))"
   ]
  },
  {
   "cell_type": "code",
   "execution_count": null,
   "id": "256ce221",
   "metadata": {},
   "outputs": [],
   "source": []
  }
 ],
 "metadata": {
  "kernelspec": {
   "display_name": "Python 3 (ipykernel)",
   "language": "python",
   "name": "python3"
  },
  "language_info": {
   "codemirror_mode": {
    "name": "ipython",
    "version": 3
   },
   "file_extension": ".py",
   "mimetype": "text/x-python",
   "name": "python",
   "nbconvert_exporter": "python",
   "pygments_lexer": "ipython3",
   "version": "3.11.4"
  }
 },
 "nbformat": 4,
 "nbformat_minor": 5
}
